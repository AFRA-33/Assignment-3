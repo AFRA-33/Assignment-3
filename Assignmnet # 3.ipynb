{
 "cells": [
  {
   "cell_type": "markdown",
   "id": "ee448e90-2ca2-4622-a8d5-0b4e62fdd917",
   "metadata": {},
   "source": [
    "# ***Assignment # 3***"
   ]
  },
  {
   "cell_type": "markdown",
   "id": "c165f3ea-a416-428e-a0ed-7f3b5f3e76a2",
   "metadata": {},
   "source": [
    "1. Write a Python program to print the following string in a specific format (see the\n",
    "output).\n",
    "\n",
    "Twinkle, twinkle, little star,\n",
    "How I wonder what you are!\n",
    "Up above the world so high,\n",
    "Like a diamond in the sky.\n",
    "\n",
    "Twinkle, twinkle, little star,\n",
    "How I wonder what you are"
   ]
  },
  {
   "cell_type": "code",
   "execution_count": 1,
   "id": "261a3de2-b1eb-421d-8905-01871506b25d",
   "metadata": {},
   "outputs": [
    {
     "name": "stdout",
     "output_type": "stream",
     "text": [
      "\n",
      "Twinkle, twinkle, little star,\n",
      "\tHow I wonder what you are!\n",
      "\t\tUp above the world so high,\n",
      "\t\tLike a diamond in the sky.\n",
      "\n",
      "Twinkle, twinkle, little star,\n",
      "\tHow I wonder what you are\n",
      "\n"
     ]
    }
   ],
   "source": [
    " poem = \"\"\"\n",
    "Twinkle, twinkle, little star,\n",
    "\\tHow I wonder what you are!\n",
    "\\t\\tUp above the world so high,\n",
    "\\t\\tLike a diamond in the sky.\n",
    "\n",
    "Twinkle, twinkle, little star,\n",
    "\\tHow I wonder what you are\n",
    "\"\"\"\n",
    "print(poem)"
   ]
  },
  {
   "cell_type": "markdown",
   "id": "6cd82ff9-bdfb-423a-8d6b-a979fd059413",
   "metadata": {},
   "source": [
    "2. Write a Python program to get the Python version you are using"
   ]
  },
  {
   "cell_type": "code",
   "execution_count": 2,
   "id": "1021d2af-1819-4349-8380-bed6abbe4de3",
   "metadata": {},
   "outputs": [
    {
     "name": "stdout",
     "output_type": "stream",
     "text": [
      "Python version: 3.11.0 (main, Oct 24 2022, 18:26:48) [MSC v.1933 64 bit (AMD64)]\n"
     ]
    }
   ],
   "source": [
    "import sys\n",
    "\n",
    "def print_python_version():\n",
    "    version = sys.version\n",
    "    print(f\"Python version: {version}\")\n",
    "\n",
    "print_python_version()\n"
   ]
  },
  {
   "cell_type": "markdown",
   "id": "4373104a-0210-417c-8bc3-72b86409e13e",
   "metadata": {},
   "source": [
    "3. Write a Python program to display the current date and time."
   ]
  },
  {
   "cell_type": "code",
   "execution_count": 4,
   "id": "ebda00a5-b3a5-44dd-a071-e1bf195a8d6d",
   "metadata": {},
   "outputs": [
    {
     "name": "stdout",
     "output_type": "stream",
     "text": [
      "2024-08-01 16:22:47.065895\n"
     ]
    }
   ],
   "source": [
    "import datetime\n",
    "\n",
    "x = datetime.datetime.now()\n",
    "print(x)"
   ]
  },
  {
   "cell_type": "markdown",
   "id": "1a96fe80-7cde-41ac-83be-4306e9429161",
   "metadata": {},
   "source": [
    "4. Write a Python program which accepts the radius of a circle from the user and compute\n",
    "the area."
   ]
  },
  {
   "cell_type": "code",
   "execution_count": 6,
   "id": "93ff0191-6078-4848-8880-16e5d298b614",
   "metadata": {},
   "outputs": [
    {
     "name": "stdin",
     "output_type": "stream",
     "text": [
      "Enter the radius of the circle:  25\n"
     ]
    },
    {
     "name": "stdout",
     "output_type": "stream",
     "text": [
      "The area of the circle is  1963.4954084936207\n"
     ]
    }
   ],
   "source": [
    "import math\n",
    "radius = float(input(\"Enter the radius of the circle: \"))\n",
    "area = math.pi * (radius ** 2)\n",
    "print(\"The area of the circle is \", area)"
   ]
  },
  {
   "cell_type": "markdown",
   "id": "42c8c14e-185f-4a11-94a6-9610a7d28a06",
   "metadata": {},
   "source": [
    "5. Write a Python program which accepts the user's first and last name and print them in\n",
    "reverse order with a space between them."
   ]
  },
  {
   "cell_type": "code",
   "execution_count": 8,
   "id": "17ece4c5-0f0e-4d0a-ba27-473bd49e0eb2",
   "metadata": {},
   "outputs": [
    {
     "name": "stdin",
     "output_type": "stream",
     "text": [
      "Enter your first name:  afra\n",
      "Enter your last name:  siddiqui\n"
     ]
    },
    {
     "name": "stdout",
     "output_type": "stream",
     "text": [
      "siddiqui afra\n"
     ]
    }
   ],
   "source": [
    " first_name = input(\"Enter your first name: \")\n",
    " last_name = input(\"Enter your last name: \")\n",
    " print(last_name , first_name)"
   ]
  },
  {
   "cell_type": "markdown",
   "id": "ead64da0-e010-42aa-8da6-b431c64bdf1d",
   "metadata": {},
   "source": [
    "6. Write a python program which takes two inputs from user and print them addition"
   ]
  },
  {
   "cell_type": "code",
   "execution_count": 10,
   "id": "206ac0ce-72b4-4f1c-af00-a58adbc27419",
   "metadata": {},
   "outputs": [
    {
     "name": "stdin",
     "output_type": "stream",
     "text": [
      "Enter the first number:  42\n",
      "Enter the second number:  65\n"
     ]
    },
    {
     "name": "stdout",
     "output_type": "stream",
     "text": [
      "The addition of these two numbers are: 107.0\n"
     ]
    }
   ],
   "source": [
    "number1 = float(input(\"Enter the first number: \"))\n",
    "number2 = float(input(\"Enter the second number: \"))\n",
    "addition = number1 + number2\n",
    "print(\"The addition of these two numbers are:\" , addition)"
   ]
  },
  {
   "cell_type": "markdown",
   "id": "c769b4eb-da0c-4b89-a697-73fb7c799ddb",
   "metadata": {},
   "source": [
    "7. Write a program which takes 5 inputs from user for different subject’s marks, total it\n",
    "and generate mark sheet using grades ?"
   ]
  },
  {
   "cell_type": "code",
   "execution_count": 13,
   "id": "79a20dc5-c982-4229-9cd7-d3ab1ecfa9cb",
   "metadata": {},
   "outputs": [
    {
     "name": "stdin",
     "output_type": "stream",
     "text": [
      "Enter marks for subject 1:  98\n",
      "Enter marks for subject 2:  88\n",
      "Enter marks for subject 3:  86\n",
      "Enter marks for subject 4:  92\n",
      "Enter marks for subject 5:  98\n"
     ]
    },
    {
     "name": "stdout",
     "output_type": "stream",
     "text": [
      "Total Marks:  462.0\n",
      "Average Marks:  92.4\n",
      "Grade:  A\n"
     ]
    }
   ],
   "source": [
    "subject1 = float(input(\"Enter marks for subject 1: \"))\n",
    "subject2 = float(input(\"Enter marks for subject 2: \"))\n",
    "subject3 = float(input(\"Enter marks for subject 3: \"))\n",
    "subject4 = float(input(\"Enter marks for subject 4: \"))\n",
    "subject5 = float(input(\"Enter marks for subject 5: \"))\n",
    "\n",
    "total_marks = subject1 + subject2 + subject3 + subject4 + subject5\n",
    "\n",
    "average_marks = total_marks / 5\n",
    "\n",
    "if average_marks >= 90:\n",
    "    grade = 'A'\n",
    "elif average_marks >= 80:\n",
    "    grade = 'B'\n",
    "elif average_marks >= 70:\n",
    "    grade = 'C'\n",
    "elif average_marks >= 60:\n",
    "    grade = 'D'\n",
    "else:\n",
    "    grade = 'F'\n",
    "\n",
    "print(\"Total Marks: \",total_marks)\n",
    "print(\"Average Marks: \", average_marks)\n",
    "print(\"Grade: \", grade)\n"
   ]
  },
  {
   "cell_type": "markdown",
   "id": "c75f0b4a-67c1-4e4b-982e-a1dec9ec8375",
   "metadata": {},
   "source": [
    "8. Write a program which take input from user and identify that the given number is even\n",
    "or odd?"
   ]
  },
  {
   "cell_type": "code",
   "execution_count": 15,
   "id": "6e100361-d838-4bb6-ac14-80519b194791",
   "metadata": {},
   "outputs": [
    {
     "name": "stdin",
     "output_type": "stream",
     "text": [
      "Enter a number:  23\n"
     ]
    },
    {
     "name": "stdout",
     "output_type": "stream",
     "text": [
      "23  number is odd:\n"
     ]
    }
   ],
   "source": [
    "number = int(input(\"Enter a number: \"))\n",
    "if number % 2 == 0:\n",
    "    print(number,\" number is even:\")\n",
    "else:\n",
    "    print(number,\" number is odd:\")\n"
   ]
  },
  {
   "cell_type": "markdown",
   "id": "79681063-b60d-4861-b75c-6c89d93d8f80",
   "metadata": {},
   "source": [
    "9. Write a program which print the length of the list?"
   ]
  },
  {
   "cell_type": "code",
   "execution_count": 16,
   "id": "43a6c957-ca0a-4920-9a54-632ec375983d",
   "metadata": {},
   "outputs": [
    {
     "name": "stdout",
     "output_type": "stream",
     "text": [
      "The length of the list is:  5\n"
     ]
    }
   ],
   "source": [
    "my_list = [10, 20, 30, 40, 50]\n",
    "\n",
    "list_length = len(my_list)\n",
    "\n",
    "print(\"The length of the list is: \", list_length)\n"
   ]
  },
  {
   "cell_type": "markdown",
   "id": "fd10afbe-fa2f-4b7e-911f-0997a477a8db",
   "metadata": {},
   "source": [
    "10.Write a Python program to sum all the numeric items in a list?"
   ]
  },
  {
   "cell_type": "code",
   "execution_count": 17,
   "id": "4e6335ce-5453-4b2a-a98a-993c1ff20bc6",
   "metadata": {},
   "outputs": [
    {
     "name": "stdout",
     "output_type": "stream",
     "text": [
      "The sum of all numeric items in the list is:  150\n"
     ]
    }
   ],
   "source": [
    "my_list = [10, 20, 30, 40, 50]\n",
    "\n",
    "total_sum = my_list[0] + my_list[1] + my_list[2] + my_list[3] + my_list[4]\n",
    "\n",
    "print(\"The sum of all numeric items in the list is: \",total_sum)\n"
   ]
  },
  {
   "cell_type": "code",
   "execution_count": 18,
   "id": "89e68505-486a-4044-8872-0de0ef5dfa79",
   "metadata": {},
   "outputs": [
    {
     "name": "stdout",
     "output_type": "stream",
     "text": [
      "The sum of all numeric items in the list is:  150\n"
     ]
    }
   ],
   "source": [
    "numeric_list = [10, 20, 30, 40, 50]\n",
    "\n",
    "total_sum = 0\n",
    "\n",
    "for number in numeric_list:\n",
    "    total_sum += number\n",
    "\n",
    "print(\"The sum of all numeric items in the list is: \",total_sum )\n"
   ]
  },
  {
   "cell_type": "markdown",
   "id": "172f0d25-ec26-4cee-9061-6b7de94dfa35",
   "metadata": {},
   "source": [
    "11.Write a Python program to get the largest number from a numeric list."
   ]
  },
  {
   "cell_type": "code",
   "execution_count": 19,
   "id": "b7789425-4328-4bc2-b9c7-65f201b80557",
   "metadata": {},
   "outputs": [
    {
     "name": "stdout",
     "output_type": "stream",
     "text": [
      "The largest number in the list is:  50\n"
     ]
    }
   ],
   "source": [
    "numeric_list = [10, 20, 30, 40, 50]\n",
    "\n",
    "largest_number = numeric_list[0]\n",
    "\n",
    "for number in numeric_list:\n",
    "    if number > largest_number:\n",
    "        largest_number = number\n",
    "\n",
    "print(\"The largest number in the list is: \", largest_number)\n"
   ]
  },
  {
   "cell_type": "markdown",
   "id": "3c80080a-d239-4744-b910-c108d132dcdf",
   "metadata": {},
   "source": [
    "12. Take a list, say for example this one:\n",
    "a = [1, 1, 2, 3, 5, 8, 13, 21, 34, 55, 89]\n",
    "Write a program that prints out all the elements of the list that are less than 5."
   ]
  },
  {
   "cell_type": "code",
   "execution_count": 20,
   "id": "e75697d0-6a0f-4ed7-8f6f-9b0e442d40a6",
   "metadata": {},
   "outputs": [
    {
     "name": "stdout",
     "output_type": "stream",
     "text": [
      "1\n",
      "1\n",
      "2\n",
      "3\n"
     ]
    }
   ],
   "source": [
    "a = [1, 1, 2, 3, 5, 8, 13, 21, 34, 55, 89]\n",
    "\n",
    "for number in a:\n",
    "    if number < 5:\n",
    "        print(number)\n"
   ]
  },
  {
   "cell_type": "code",
   "execution_count": null,
   "id": "3d1da86c-d93a-4971-8d3d-9980891edd25",
   "metadata": {},
   "outputs": [],
   "source": []
  }
 ],
 "metadata": {
  "kernelspec": {
   "display_name": "Python 3 (ipykernel)",
   "language": "python",
   "name": "python3"
  },
  "language_info": {
   "codemirror_mode": {
    "name": "ipython",
    "version": 3
   },
   "file_extension": ".py",
   "mimetype": "text/x-python",
   "name": "python",
   "nbconvert_exporter": "python",
   "pygments_lexer": "ipython3",
   "version": "3.11.0"
  }
 },
 "nbformat": 4,
 "nbformat_minor": 5
}
