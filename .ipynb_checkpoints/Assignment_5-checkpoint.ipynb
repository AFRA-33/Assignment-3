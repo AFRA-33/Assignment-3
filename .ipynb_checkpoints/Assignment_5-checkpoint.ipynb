{
 "cells": [
  {
   "cell_type": "markdown",
   "id": "f05440ef-328a-4a49-849c-ef7bf561bc23",
   "metadata": {},
   "source": [
    "# **Assignment # 5**"
   ]
  },
  {
   "cell_type": "markdown",
   "id": "5818c726-5078-47ed-966c-0388b5b031cd",
   "metadata": {},
   "source": [
    "##### 1. You need to store and manage employee records where each record includes an employee's ID, name, and department. (Use tuples to represent each employee record)."
   ]
  },
  {
   "cell_type": "code",
   "execution_count": 3,
   "id": "f8b99dab-8fef-4a2d-8abc-3d9c68c8ef43",
   "metadata": {},
   "outputs": [
    {
     "data": {
      "text/plain": [
       "[(101, 'Ahmed Khan', 'HR'),\n",
       " (102, 'Ayesha Siddiqui', 'IT'),\n",
       " (103, 'Fatima Noor', 'Finance'),\n",
       " (104, 'Ali Raza', 'Marketing'),\n",
       " (105, 'Hassan Malik', 'Operations'),\n",
       " (106, 'Zainab Ali', 'IT'),\n",
       " (107, 'Omar Farooq', 'HR'),\n",
       " (108, 'Sara Ahmed', 'Finance'),\n",
       " (109, 'Bilal Shaikh', 'Marketing'),\n",
       " (110, 'Mariam Khan', 'Operations')]"
      ]
     },
     "execution_count": 3,
     "metadata": {},
     "output_type": "execute_result"
    }
   ],
   "source": [
    "# Employees data records using tuples\n",
    "employee_1 = (101, \"Ahmed Khan\", \"HR\")\n",
    "employee_2 = (102, \"Ayesha Siddiqui\", \"IT\")\n",
    "employee_3 = (103, \"Fatima Noor\", \"Finance\")\n",
    "employee_4 = (104, \"Ali Raza\", \"Marketing\")\n",
    "employee_5 = (105, \"Hassan Malik\", \"Operations\")\n",
    "employee_6 = (106, \"Zainab Ali\", \"IT\")\n",
    "employee_7 = (107, \"Omar Farooq\", \"HR\")\n",
    "employee_8 = (108, \"Sara Ahmed\", \"Finance\")\n",
    "employee_9 = (109, \"Bilal Shaikh\", \"Marketing\")\n",
    "employee_10 = (110, \"Mariam Khan\", \"Operations\")\n",
    "\n",
    "# tuple in a list\n",
    "employees = [\n",
    "    employee_1, employee_2, employee_3, employee_4, employee_5,\n",
    "    employee_6, employee_7, employee_8, employee_9, employee_10\n",
    "]\n",
    "employees"
   ]
  },
  {
   "cell_type": "markdown",
   "id": "c1719e1b-5497-483c-a6bb-3983ee05a7c2",
   "metadata": {},
   "source": [
    "##### 2. You are managing an inventory system where each item has an item ID, description, and quantity available. (Use tuples to represent each inventory item)."
   ]
  },
  {
   "cell_type": "code",
   "execution_count": 5,
   "id": "bedaf599-5ca0-4feb-9977-413304058eb2",
   "metadata": {},
   "outputs": [
    {
     "data": {
      "text/plain": [
       "[(201, 'Laptop - Dell Inspiron', 25),\n",
       " (202, 'Smartphone - Samsung Galaxy', 50),\n",
       " (203, 'Tablet - Apple iPad', 30),\n",
       " (204, 'Monitor - HP 24-inch', 15),\n",
       " (205, 'Keyboard - Logitech Wireless', 60),\n",
       " (206, 'Mouse - Microsoft Ergonomic', 40),\n",
       " (207, 'Printer - Canon Pixma', 10),\n",
       " (208, 'Router - TP-Link WiFi', 35),\n",
       " (209, 'Headphones - Sony Noise Cancelling', 20),\n",
       " (210, 'External Hard Drive - Seagate 1TB', 45)]"
      ]
     },
     "execution_count": 5,
     "metadata": {},
     "output_type": "execute_result"
    }
   ],
   "source": [
    "# inventory data records using tuples\n",
    "item_1 = (201, \"Laptop - Dell Inspiron\", 25)\n",
    "item_2 = (202, \"Smartphone - Samsung Galaxy\", 50)\n",
    "item_3 = (203, \"Tablet - Apple iPad\", 30)\n",
    "item_4 = (204, \"Monitor - HP 24-inch\", 15)\n",
    "item_5 = (205, \"Keyboard - Logitech Wireless\", 60)\n",
    "item_6 = (206, \"Mouse - Microsoft Ergonomic\", 40)\n",
    "item_7 = (207, \"Printer - Canon Pixma\", 10)\n",
    "item_8 = (208, \"Router - TP-Link WiFi\", 35)\n",
    "item_9 = (209, \"Headphones - Sony Noise Cancelling\", 20)\n",
    "item_10 = (210, \"External Hard Drive - Seagate 1TB\", 45)\n",
    "\n",
    "# tuple in a list\n",
    "inventory = [\n",
    "    item_1, item_2, item_3, item_4, item_5,\n",
    "    item_6, item_7, item_8, item_9, item_10\n",
    "]\n",
    "inventory"
   ]
  },
  {
   "cell_type": "markdown",
   "id": "c4786fed-3574-4f0e-8055-0e06886acd65",
   "metadata": {},
   "source": [
    "##### 3. You need to store the dates and times of scheduled events, like meetings or appointments. (Use tuples to store date and time information)."
   ]
  },
  {
   "cell_type": "code",
   "execution_count": 7,
   "id": "0dcd15b0-7dee-411c-be44-d6a08cb5f04e",
   "metadata": {},
   "outputs": [
    {
     "data": {
      "text/plain": [
       "[('2024-08-20', '09:00 AM', 'Team Meeting'),\n",
       " ('2024-08-21', '02:00 PM', 'Client Presentation'),\n",
       " ('2024-08-22', '11:00 AM', 'Project Update Meeting'),\n",
       " ('2024-08-23', '03:30 PM', 'HR Interview'),\n",
       " ('2024-08-24', '10:00 AM', 'Product Launch'),\n",
       " ('2024-08-25', '04:00 PM', 'Performance Review'),\n",
       " ('2024-08-26', '01:00 PM', 'Strategy Planning'),\n",
       " ('2024-08-27', '08:00 AM', 'Morning Briefing'),\n",
       " ('2024-08-28', '12:00 PM', 'Lunch with CEO'),\n",
       " ('2024-08-29', '05:00 PM', 'Weekly Wrap-Up Meeting')]"
      ]
     },
     "execution_count": 7,
     "metadata": {},
     "output_type": "execute_result"
    }
   ],
   "source": [
    "# scheduled events using tuples\n",
    "event_1 = (\"2024-08-20\", \"09:00 AM\", \"Team Meeting\")\n",
    "event_2 = (\"2024-08-21\", \"02:00 PM\", \"Client Presentation\")\n",
    "event_3 = (\"2024-08-22\", \"11:00 AM\", \"Project Update Meeting\")\n",
    "event_4 = (\"2024-08-23\", \"03:30 PM\", \"HR Interview\")\n",
    "event_5 = (\"2024-08-24\", \"10:00 AM\", \"Product Launch\")\n",
    "event_6 = (\"2024-08-25\", \"04:00 PM\", \"Performance Review\")\n",
    "event_7 = (\"2024-08-26\", \"01:00 PM\", \"Strategy Planning\")\n",
    "event_8 = (\"2024-08-27\", \"08:00 AM\", \"Morning Briefing\")\n",
    "event_9 = (\"2024-08-28\", \"12:00 PM\", \"Lunch with CEO\")\n",
    "event_10 = (\"2024-08-29\", \"05:00 PM\", \"Weekly Wrap-Up Meeting\")\n",
    "\n",
    "# tuple in a list\n",
    "events = [\n",
    "    event_1, event_2, event_3, event_4, event_5,\n",
    "    event_6, event_7, event_8, event_9, event_10\n",
    "]\n",
    "events"
   ]
  },
  {
   "cell_type": "markdown",
   "id": "a6627622-7217-4c76-b8f9-10668df00d62",
   "metadata": {},
   "source": [
    "##### 4. Store a company's employee details, organized by department. (Use dictionary in dictionary)."
   ]
  },
  {
   "cell_type": "code",
   "execution_count": 16,
   "id": "744e3fba-6fd3-4336-99d4-d87531d7c853",
   "metadata": {},
   "outputs": [
    {
     "data": {
      "text/plain": [
       "{'HR': {101: {'Name': 'Ahmed Khan', 'Position': 'HR Manager'},\n",
       "  102: {'Name': 'Omar Farooq', 'Position': 'HR Assistant'}},\n",
       " 'IT': {201: {'Name': 'Ayesha Siddiqui', 'Position': 'IT Specialist'},\n",
       "  202: {'Name': 'Zainab Ali', 'Position': 'Software Engineer'},\n",
       "  203: {'Name': 'Bilal Shaikh', 'Position': 'Network Administrator'}},\n",
       " 'Finance': {301: {'Name': 'Fatima Noor', 'Position': 'Finance Manager'},\n",
       "  302: {'Name': 'Sara Ahmed', 'Position': 'Accountant'}},\n",
       " 'Marketing': {401: {'Name': 'Ali Raza', 'Position': 'Marketing Director'},\n",
       "  402: {'Name': 'Hassan Malik', 'Position': 'Marketing Specialist'}},\n",
       " 'Operations': {501: {'Name': 'Mariam Khan', 'Position': 'Operations Manager'},\n",
       "  502: {'Name': 'Kashif Ali', 'Position': 'Operations Coordinator'}}}"
      ]
     },
     "execution_count": 16,
     "metadata": {},
     "output_type": "execute_result"
    }
   ],
   "source": [
    "# Nested Dictionary\n",
    "company_employees = {\n",
    "    \"HR\": {\n",
    "        101: {\"Name\": \"Ahmed Khan\", \"Position\": \"HR Manager\"},\n",
    "        102: {\"Name\": \"Omar Farooq\", \"Position\": \"HR Assistant\"},\n",
    "    },\n",
    "    \"IT\": {\n",
    "        201: {\"Name\": \"Ayesha Siddiqui\", \"Position\": \"IT Specialist\"},\n",
    "        202: {\"Name\": \"Zainab Ali\", \"Position\": \"Software Engineer\"},\n",
    "        203: {\"Name\": \"Bilal Shaikh\", \"Position\": \"Network Administrator\"},\n",
    "    },\n",
    "    \"Finance\": {\n",
    "        301: {\"Name\": \"Fatima Noor\", \"Position\": \"Finance Manager\"},\n",
    "        302: {\"Name\": \"Sara Ahmed\", \"Position\": \"Accountant\"},\n",
    "    },\n",
    "    \"Marketing\": {\n",
    "        401: {\"Name\": \"Ali Raza\", \"Position\": \"Marketing Director\"},\n",
    "        402: {\"Name\": \"Hassan Malik\", \"Position\": \"Marketing Specialist\"},\n",
    "    },\n",
    "    \"Operations\": {\n",
    "        501: {\"Name\": \"Mariam Khan\", \"Position\": \"Operations Manager\"},\n",
    "        502: {\"Name\": \"Kashif Ali\", \"Position\": \"Operations Coordinator\"},\n",
    "    }\n",
    "}\n",
    "\n",
    "company_employees\n"
   ]
  },
  {
   "cell_type": "markdown",
   "id": "47c79ea8-605e-4037-8775-ec7bdefa227e",
   "metadata": {},
   "source": [
    "##### 5. Keep track of student scores in various subjects and retrieve a student's scores. (Use dictionary in List)."
   ]
  },
  {
   "cell_type": "code",
   "execution_count": 22,
   "id": "02910765-4d22-4057-ad2a-68c72a4ddca4",
   "metadata": {},
   "outputs": [
    {
     "name": "stdout",
     "output_type": "stream",
     "text": [
      "Student ID: 3, Name: Zain Malik\n",
      "Math: 75\n",
      "Science: 80\n",
      "English: 72\n"
     ]
    }
   ],
   "source": [
    "# List of dictionaries to store student scores\n",
    "students_scores = [\n",
    "    {\"Student ID\": 1, \"Name\": \"Ali Hassan\", \"Scores\": {\"Math\": 85, \"Science\": 90, \"English\": 78}},\n",
    "    {\"Student ID\": 2, \"Name\": \"Aisha Noor\", \"Scores\": {\"Math\": 92, \"Science\": 88, \"English\": 84}},\n",
    "    {\"Student ID\": 3, \"Name\": \"Zain Malik\", \"Scores\": {\"Math\": 75, \"Science\": 80, \"English\": 72}},\n",
    "    {\"Student ID\": 4, \"Name\": \"Fatima Sheikh\", \"Scores\": {\"Math\": 89, \"Science\": 94, \"English\": 91}},\n",
    "    {\"Student ID\": 5, \"Name\": \"Omar Ali\", \"Scores\": {\"Math\": 77, \"Science\": 82, \"English\": 85}},\n",
    "]\n",
    "\n",
    "# Function to retrieve a student's scores by Student ID\n",
    "def get_student_scores(student_id):\n",
    "    for student in students_scores:\n",
    "        if student[\"Student ID\"] == student_id:\n",
    "            return student\n",
    "    return None\n",
    "\n",
    "# Example: Retrieve scores for a student with ID 3\n",
    "student_id_to_search = 3\n",
    "student_info = get_student_scores(student_id_to_search)\n",
    "\n",
    "if student_info:\n",
    "    print(f\"Student ID: {student_info['Student ID']}, Name: {student_info['Name']}\")\n",
    "    for subject, score in student_info[\"Scores\"].items():\n",
    "        print(f\"{subject}: {score}\")\n",
    "else:\n",
    "    print(f\"No student found with ID {student_id_to_search}\")\n"
   ]
  },
  {
   "cell_type": "code",
   "execution_count": 30,
   "id": "bf573e61-0c7a-4e5c-bb03-6ff561108b9c",
   "metadata": {},
   "outputs": [
    {
     "ename": "KeyError",
     "evalue": "3",
     "output_type": "error",
     "traceback": [
      "\u001b[1;31m---------------------------------------------------------------------------\u001b[0m",
      "\u001b[1;31mKeyError\u001b[0m                                  Traceback (most recent call last)",
      "Cell \u001b[1;32mIn[30], line 7\u001b[0m\n\u001b[0;32m      1\u001b[0m students\u001b[38;5;241m=\u001b[39m[\n\u001b[0;32m      2\u001b[0m     {\u001b[38;5;124m\"\u001b[39m\u001b[38;5;124mstudent_1\u001b[39m\u001b[38;5;124m\"\u001b[39m : {\u001b[38;5;124m\"\u001b[39m\u001b[38;5;124mName\u001b[39m\u001b[38;5;124m\"\u001b[39m: \u001b[38;5;124m\"\u001b[39m\u001b[38;5;124mAfra\u001b[39m\u001b[38;5;124m\"\u001b[39m, \u001b[38;5;124m\"\u001b[39m\u001b[38;5;124mID\u001b[39m\u001b[38;5;124m\"\u001b[39m : \u001b[38;5;241m345\u001b[39m , \u001b[38;5;124m\"\u001b[39m\u001b[38;5;124mDepartment\u001b[39m\u001b[38;5;124m\"\u001b[39m : \u001b[38;5;124m\"\u001b[39m\u001b[38;5;124mPG\u001b[39m\u001b[38;5;124m\"\u001b[39m}},\n\u001b[0;32m      3\u001b[0m     {\u001b[38;5;124m\"\u001b[39m\u001b[38;5;124mstudent_2\u001b[39m\u001b[38;5;124m\"\u001b[39m : {\u001b[38;5;124m\"\u001b[39m\u001b[38;5;124mName\u001b[39m\u001b[38;5;124m\"\u001b[39m: \u001b[38;5;124m\"\u001b[39m\u001b[38;5;124mAfra\u001b[39m\u001b[38;5;124m\"\u001b[39m, \u001b[38;5;124m\"\u001b[39m\u001b[38;5;124mID\u001b[39m\u001b[38;5;124m\"\u001b[39m : \u001b[38;5;241m78\u001b[39m , \u001b[38;5;124m\"\u001b[39m\u001b[38;5;124mDepartment\u001b[39m\u001b[38;5;124m\"\u001b[39m : \u001b[38;5;124m\"\u001b[39m\u001b[38;5;124mIEEE\u001b[39m\u001b[38;5;124m\"\u001b[39m}},\n\u001b[0;32m      4\u001b[0m     {\u001b[38;5;124m\"\u001b[39m\u001b[38;5;124mstudent_3\u001b[39m\u001b[38;5;124m\"\u001b[39m : {\u001b[38;5;124m\"\u001b[39m\u001b[38;5;124mName\u001b[39m\u001b[38;5;124m\"\u001b[39m: \u001b[38;5;124m\"\u001b[39m\u001b[38;5;124mAfra\u001b[39m\u001b[38;5;124m\"\u001b[39m, \u001b[38;5;124m\"\u001b[39m\u001b[38;5;124mID\u001b[39m\u001b[38;5;124m\"\u001b[39m : \u001b[38;5;241m789\u001b[39m , \u001b[38;5;124m\"\u001b[39m\u001b[38;5;124mDepartment\u001b[39m\u001b[38;5;124m\"\u001b[39m : \u001b[38;5;124m\"\u001b[39m\u001b[38;5;124mES\u001b[39m\u001b[38;5;124m\"\u001b[39m}},\n\u001b[0;32m      5\u001b[0m     {\u001b[38;5;124m\"\u001b[39m\u001b[38;5;124mstudent_4\u001b[39m\u001b[38;5;124m\"\u001b[39m : {\u001b[38;5;124m\"\u001b[39m\u001b[38;5;124mName\u001b[39m\u001b[38;5;124m\"\u001b[39m: \u001b[38;5;124m\"\u001b[39m\u001b[38;5;124mAfra\u001b[39m\u001b[38;5;124m\"\u001b[39m, \u001b[38;5;124m\"\u001b[39m\u001b[38;5;124mID\u001b[39m\u001b[38;5;124m\"\u001b[39m : \u001b[38;5;241m310\u001b[39m , \u001b[38;5;124m\"\u001b[39m\u001b[38;5;124mDepartment\u001b[39m\u001b[38;5;124m\"\u001b[39m : \u001b[38;5;124m\"\u001b[39m\u001b[38;5;124mCS\u001b[39m\u001b[38;5;124m\"\u001b[39m}}\n\u001b[0;32m      6\u001b[0m ]\n\u001b[1;32m----> 7\u001b[0m \u001b[43mstudents\u001b[49m\u001b[43m[\u001b[49m\u001b[38;5;241;43m1\u001b[39;49m\u001b[43m]\u001b[49m\u001b[43m[\u001b[49m\u001b[38;5;241;43m3\u001b[39;49m\u001b[43m]\u001b[49m\n",
      "\u001b[1;31mKeyError\u001b[0m: 3"
     ]
    }
   ],
   "source": [
    "students=[\n",
    "    {\"student_1\" : {\"Name\": \"Afra\", \"ID\" : 345 , \"Department\" : \"PG\"}},\n",
    "    {\"student_2\" : {\"Name\": \"Afra\", \"ID\" : 78 , \"Department\" : \"IEEE\"}},\n",
    "    {\"student_3\" : {\"Name\": \"Afra\", \"ID\" : 789 , \"Department\" : \"ES\"}},\n",
    "    {\"student_4\" : {\"Name\": \"Afra\", \"ID\" : 310 , \"Department\" : \"CS\"}}\n",
    "]\n",
    "students[1][0\n",
    "]"
   ]
  },
  {
   "cell_type": "code",
   "execution_count": null,
   "id": "bb9149ae-0bf3-4bac-a5bc-d8e703ac589c",
   "metadata": {},
   "outputs": [],
   "source": []
  }
 ],
 "metadata": {
  "kernelspec": {
   "display_name": "Python 3 (ipykernel)",
   "language": "python",
   "name": "python3"
  },
  "language_info": {
   "codemirror_mode": {
    "name": "ipython",
    "version": 3
   },
   "file_extension": ".py",
   "mimetype": "text/x-python",
   "name": "python",
   "nbconvert_exporter": "python",
   "pygments_lexer": "ipython3",
   "version": "3.12.5"
  }
 },
 "nbformat": 4,
 "nbformat_minor": 5
}
