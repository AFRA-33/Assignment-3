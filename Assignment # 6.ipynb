{
 "cells": [
  {
   "cell_type": "markdown",
   "id": "ee1e1bd3-6503-4976-8398-e621a6712c9c",
   "metadata": {},
   "source": [
    "# ***Assignment # 6***"
   ]
  },
  {
   "cell_type": "markdown",
   "id": "7a4f5a66-80c2-4cef-b5a3-c90f78888b1e",
   "metadata": {},
   "source": [
    "##### 1. Write a Python program to construct the following pattern, using a nested for loop.\n",
    "##### *\n",
    "##### * *\n",
    "##### * * *\n",
    "##### * * * *\n",
    "##### * * * * *\n",
    "##### * * * *\n",
    "##### * * *\n",
    "##### * *\n",
    "##### *"
   ]
  },
  {
   "cell_type": "code",
   "execution_count": 43,
   "id": "907a976e-7148-4163-a43c-7e8e9f421f38",
   "metadata": {},
   "outputs": [
    {
     "name": "stdout",
     "output_type": "stream",
     "text": [
      "* \n",
      "* * \n",
      "* * * \n",
      "* * * * \n",
      "* * * * * \n",
      "* * * * \n",
      "* * * \n",
      "* * \n",
      "* \n"
     ]
    }
   ],
   "source": [
    "row = 5\n",
    "for i in range(1 ,  row +1):\n",
    "    for j in range(i):\n",
    "        print(\"*\", end=\" \")\n",
    "    print()\n",
    "\n",
    "for i in range(row - 1, 0, -1):\n",
    "    for j in range(i):\n",
    "        print(\"*\", end=\" \")\n",
    "    print()\n",
    "   "
   ]
  },
  {
   "cell_type": "markdown",
   "id": "df6d4784-750a-4463-8c54-aa535de28d4b",
   "metadata": {},
   "source": [
    "##### 2. Write a Python program to check whether an alphabet which is given by user in input prompt is a vowel or consonant."
   ]
  },
  {
   "cell_type": "code",
   "execution_count": 55,
   "id": "dbdecbc8-8216-44f1-894a-d3e009610770",
   "metadata": {},
   "outputs": [
    {
     "name": "stdin",
     "output_type": "stream",
     "text": [
      "Enter any alphabate.... 2\n"
     ]
    },
    {
     "name": "stdout",
     "output_type": "stream",
     "text": [
      "Please enter an alphabate...\n"
     ]
    }
   ],
   "source": [
    "inp = input(\"Enter any alphabate....\").lower()\n",
    "\n",
    "if len(inp) == 1 and inp.isalpha():\n",
    "    if inp in \"aeiou\":\n",
    "        print(f\"{inp} is Vowel\")\n",
    "    else:\n",
    "        print(f\"{inp} is Consonant\")\n",
    "else:\n",
    "    print(\"Please enter an alphabate...\")\n"
   ]
  },
  {
   "cell_type": "markdown",
   "id": "f5fa0dd9-e466-425a-908e-2e925e5d8e83",
   "metadata": {},
   "source": [
    "##### 3. Write a Python program to create the multiplication table (from 1 to 10) of a number and the number will be given by user in input prompt."
   ]
  },
  {
   "cell_type": "code",
   "execution_count": 63,
   "id": "7384ab6d-ce5c-4079-a521-c42f4485f90e",
   "metadata": {},
   "outputs": [
    {
     "name": "stdin",
     "output_type": "stream",
     "text": [
      "Enter any number for the table.... 9\n"
     ]
    },
    {
     "name": "stdout",
     "output_type": "stream",
     "text": [
      "9 * 1 = 9\n",
      "9 * 2 = 18\n",
      "9 * 3 = 27\n",
      "9 * 4 = 36\n",
      "9 * 5 = 45\n",
      "9 * 6 = 54\n",
      "9 * 7 = 63\n",
      "9 * 8 = 72\n",
      "9 * 9 = 81\n",
      "9 * 10 = 90\n"
     ]
    }
   ],
   "source": [
    "inp = int(input(\"Enter any number for the table....\"))\n",
    "\n",
    "for i in range (1,11):\n",
    "      print(inp , \"*\" , i, \"=\", inp*i)\n"
   ]
  },
  {
   "cell_type": "markdown",
   "id": "e0a769e1-24fa-4814-b8bc-985548090555",
   "metadata": {},
   "source": [
    "##### 4. Write a Python program to guess a number between 1 and 9. Note : User is prompted to enter a guess. If the user guesses wrong then \\the prompt appears again until the guess is correct, on successful guess, user will get a \"Well guessed!\" message, and the program will exit."
   ]
  },
  {
   "cell_type": "code",
   "execution_count": 90,
   "id": "b789763c-d28d-4537-af82-191746cd369b",
   "metadata": {},
   "outputs": [
    {
     "name": "stdin",
     "output_type": "stream",
     "text": [
      "Please enter a number between 1 and 9:  12\n"
     ]
    },
    {
     "name": "stdout",
     "output_type": "stream",
     "text": [
      "Invalid input, please try again.\n"
     ]
    },
    {
     "name": "stdin",
     "output_type": "stream",
     "text": [
      "Please enter a number between 1 and 9:  34\n"
     ]
    },
    {
     "name": "stdout",
     "output_type": "stream",
     "text": [
      "Invalid input, please try again.\n"
     ]
    },
    {
     "name": "stdin",
     "output_type": "stream",
     "text": [
      "Please enter a number between 1 and 9:  23\n"
     ]
    },
    {
     "name": "stdout",
     "output_type": "stream",
     "text": [
      "Invalid input, please try again.\n"
     ]
    },
    {
     "name": "stdin",
     "output_type": "stream",
     "text": [
      "Please enter a number between 1 and 9:  45\n"
     ]
    },
    {
     "name": "stdout",
     "output_type": "stream",
     "text": [
      "Invalid input, please try again.\n"
     ]
    },
    {
     "name": "stdin",
     "output_type": "stream",
     "text": [
      "Please enter a number between 1 and 9:  10\n"
     ]
    },
    {
     "name": "stdout",
     "output_type": "stream",
     "text": [
      "Invalid input, please try again.\n"
     ]
    },
    {
     "name": "stdin",
     "output_type": "stream",
     "text": [
      "Please enter a number between 1 and 9:  9\n"
     ]
    },
    {
     "name": "stdout",
     "output_type": "stream",
     "text": [
      "Well guessed!\n"
     ]
    }
   ],
   "source": [
    "while True:\n",
    "    inp = int(input(\"Please enter a number between 1 and 9: \"))\n",
    "    \n",
    "    if 1 <= inp <= 9:  # Check if the input is within the range\n",
    "        print(\"Well guessed!\")\n",
    "        break  # Exit the loop if the guess is correct\n",
    "    else:\n",
    "        print(\"Invalid input, please try again.\")\n"
   ]
  },
  {
   "cell_type": "code",
   "execution_count": 86,
   "id": "2c7f3598-5911-4b39-96eb-08f9d9c9ac5d",
   "metadata": {},
   "outputs": [
    {
     "name": "stdin",
     "output_type": "stream",
     "text": [
      "Guess a number between 1 and 9:  5\n"
     ]
    },
    {
     "name": "stdout",
     "output_type": "stream",
     "text": [
      "True 5 4\n"
     ]
    },
    {
     "name": "stdin",
     "output_type": "stream",
     "text": [
      "Guess a number between 1 and 9:  8\n"
     ]
    },
    {
     "name": "stdout",
     "output_type": "stream",
     "text": [
      "Wrong guess, try again!\n",
      "True 8 4\n"
     ]
    },
    {
     "name": "stdin",
     "output_type": "stream",
     "text": [
      "Guess a number between 1 and 9:  4\n"
     ]
    },
    {
     "name": "stdout",
     "output_type": "stream",
     "text": [
      "Well guessed!\n"
     ]
    }
   ],
   "source": [
    "import random\n",
    "\n",
    "# Randomly select a number between 1 and 9\n",
    "number_to_guess = random.randint(1, 9)\n",
    "\n",
    "# Initialize the user's guess to None\n",
    "user_guess = None\n",
    "# Prompt the user to enter a guess\n",
    "user_guess = int(input(\"Guess a number between 1 and 9: \"))\n",
    "# Loop until the user guesses the correct number\n",
    "while user_guess != number_to_guess:\n",
    "    print( user_guess != number_to_guess,  user_guess, number_to_guess)\n",
    "    # Prompt the user to enter a guess\n",
    "    user_guess = int(input(\"Guess a number between 1 and 9: \"))\n",
    "    \n",
    "    if user_guess < 1 or user_guess > 9:\n",
    "        print(\"Please enter a number between 1 and 9.\")\n",
    "    elif user_guess != number_to_guess:\n",
    "        print(\"Wrong guess, try again!\")\n",
    "    else:\n",
    "        print(\"Well guessed!\")\n",
    "\n"
   ]
  },
  {
   "cell_type": "markdown",
   "id": "95b23536-835f-471b-a33e-d993005ef874",
   "metadata": {},
   "source": [
    "##### 5. Write a  Python program to filter the height and width of students, which are stored in a dictionary.\n",
    "##### Original Dictionary:\n",
    "##### {'Cierra Vega': (6.2, 70), 'Alden Cantrell': (5.9, 65), 'Kierra Gentry': (6.0, 68), 'Pierre Cox': (5.8, 66)}\n",
    "##### Height > 6ft and Weight> 70kg:\n",
    "##### {'Cierra Vega': (6.2, 70)}"
   ]
  },
  {
   "cell_type": "code",
   "execution_count": 38,
   "id": "7c66aac2-1634-47a7-9be9-b28dd718c92c",
   "metadata": {},
   "outputs": [
    {
     "name": "stdout",
     "output_type": "stream",
     "text": [
      "Height > 6ft and Weight > 70kg:\n",
      "Cierra Vega (6.2, 70)\n"
     ]
    }
   ],
   "source": [
    "my_dict = {\n",
    "    'Cierra Vega': (6.2, 70),\n",
    "    'Alden Cantrell': (5.9, 65),\n",
    "    'Kierra Gentry': (6.0, 68), \n",
    "    'Pierre Cox': (5.8, 66)\n",
    "}\n",
    "\n",
    "for key, value in my_dict.items():\n",
    "  if value[0] >= 6.0 and value[1] >= 70:\n",
    "      print(\"Height > 6ft and Weight > 70kg:\")\n",
    "      print(key,value)\n"
   ]
  },
  {
   "cell_type": "markdown",
   "id": "d5c4a059-7d4d-4fbc-a482-b1535186ba0e",
   "metadata": {},
   "source": [
    "##### 6. A  Python dictionary contains List as a value. Write a Python program to clear the list values in the said dictionary.\n",
    "##### Original Dictionary:\n",
    "##### {'C1': [10, 20, 30], 'C2': [20, 30, 40], 'C3': [12, 34]}\n",
    "##### Clear the list values in the said dictionary:\n",
    "##### {'C1': [], 'C2': [], 'C3': []}"
   ]
  },
  {
   "cell_type": "code",
   "execution_count": 55,
   "id": "cd7fd981-3e97-4d9d-b4a9-de3c93e26850",
   "metadata": {},
   "outputs": [
    {
     "name": "stdout",
     "output_type": "stream",
     "text": [
      "C1 None\n",
      "C2 None\n",
      "C3 None\n"
     ]
    }
   ],
   "source": [
    "my_dict_1 = {\n",
    "    'C1': [10, 20, 30],\n",
    "    'C2': [20, 30, 40],\n",
    "    'C3': [12, 34]\n",
    "}\n",
    "\n",
    "for key,value in my_dict_1.items():\n",
    "    x = value.clear()\n",
    "    print(key, x)"
   ]
  },
  {
   "cell_type": "markdown",
   "id": "08d6d48e-1d53-45c6-afbc-98747ff70ce0",
   "metadata": {},
   "source": [
    "##### 7.  Rivers: Make a dictionary containing three major rivers and the country each river runs through. One key-value pair might be 'nile': 'egypt'.\n",
    "##### • Use a loop to print a sentence about each river, such as The Nile runs through Egypt.\n",
    "##### • Use a loop to print the name of each river included in the dictionary.\n",
    "##### • Use a loop to print the name of each country included in the dictionary"
   ]
  },
  {
   "cell_type": "code",
   "execution_count": 61,
   "id": "043d062d-604f-4f37-aab2-5486705d8d8b",
   "metadata": {},
   "outputs": [
    {
     "name": "stdout",
     "output_type": "stream",
     "text": [
      "The Nile runs through Egypt.\n",
      "The Amazon runs through Brazil.\n",
      "The Yangtze runs through China.\n"
     ]
    }
   ],
   "source": [
    "dict = {\n",
    "    'nile': 'egypt',\n",
    "    'amazon': 'brazil',\n",
    "    'yangtze': 'china'\n",
    "}\n",
    "for river, country in dict.items():\n",
    "    print(f\"The {river.title()} runs through {country.title()}.\")\n"
   ]
  },
  {
   "cell_type": "code",
   "execution_count": 64,
   "id": "1c5eb730-78df-4237-a799-c8300de9b275",
   "metadata": {},
   "outputs": [
    {
     "name": "stdout",
     "output_type": "stream",
     "text": [
      "Rivers included in the dictionary:\n",
      "The Nile.\n",
      "The Amazon.\n",
      "The Yangtze.\n"
     ]
    }
   ],
   "source": [
    "print(\"Rivers included in the dictionary:\")\n",
    "for river, country in dict.items():\n",
    "    print(f\"The {river.title()}.\")"
   ]
  },
  {
   "cell_type": "code",
   "execution_count": 65,
   "id": "2bd3444b-7952-4ed5-8e89-6ae6ad817413",
   "metadata": {},
   "outputs": [
    {
     "name": "stdout",
     "output_type": "stream",
     "text": [
      "Countries included in the dictionary:\n",
      "The Egypt.\n",
      "The Brazil.\n",
      "The China.\n"
     ]
    }
   ],
   "source": [
    "print(\"Countries included in the dictionary:\")\n",
    "for river, country in dict.items():\n",
    "    print(f\"The {country.title()}.\")"
   ]
  },
  {
   "cell_type": "markdown",
   "id": "2b711c13-aaa5-4c62-aa5b-9adbd7f2668a",
   "metadata": {},
   "source": [
    "##### 8. Movie Tickets: A movie theater charges different ticket prices depending on a person’s age. If a person is under the age of 3, the ticket is free; if they are between 3 and 12, the ticket is $10; and if they are over age 12, the ticket is $15. Write a loop in which you ask users their age, and then tell them the cost of their movie ticket"
   ]
  },
  {
   "cell_type": "code",
   "execution_count": 68,
   "id": "c2177e99-7a33-41bd-88f1-b120d9b36d38",
   "metadata": {},
   "outputs": [
    {
     "name": "stdin",
     "output_type": "stream",
     "text": [
      "Please enter your age... 1\n"
     ]
    },
    {
     "name": "stdout",
     "output_type": "stream",
     "text": [
      "You are under 3 so your ticket is free!\n"
     ]
    }
   ],
   "source": [
    "inp = int(input(\"Please enter your age...\"))\n",
    "\n",
    "if inp <= 3:\n",
    "    print(\"You are under 3 so your ticket is free!\")\n",
    "elif inp > 3 and inp <= 12:\n",
    "    print(\"Your ticket is 10 rupees..\")\n",
    "else:\n",
    "    print(\"You are over 12 so your ticket is 15 rupees...\")"
   ]
  },
  {
   "cell_type": "code",
   "execution_count": 73,
   "id": "07a0791b-647b-41ee-b489-d39deffd3a58",
   "metadata": {},
   "outputs": [
    {
     "name": "stdin",
     "output_type": "stream",
     "text": [
      "Guess a number between 1 and 9:  12\n",
      "Guess a number between 1 and 9:  34\n"
     ]
    },
    {
     "name": "stdout",
     "output_type": "stream",
     "text": [
      "34\n"
     ]
    }
   ],
   "source": [
    "inp = int(input(\"Guess a number between 1 and 9: \"))\n",
    "if inp <= 9:\n",
    "    print(\"Well guessed!!\")\n",
    "elif inp > 9:\n",
    "    print(int(input(\"Guess a number between 1 and 9: \")))\n",
    "else:\n",
    "    print(\"Wrong Gussed\")\n",
    "    \n",
    "    \n",
    "    "
   ]
  },
  {
   "cell_type": "code",
   "execution_count": null,
   "id": "28ab974e-3cd1-4d1c-86ab-eca6acd2ae67",
   "metadata": {},
   "outputs": [],
   "source": []
  }
 ],
 "metadata": {
  "kernelspec": {
   "display_name": "Python 3 (ipykernel)",
   "language": "python",
   "name": "python3"
  },
  "language_info": {
   "codemirror_mode": {
    "name": "ipython",
    "version": 3
   },
   "file_extension": ".py",
   "mimetype": "text/x-python",
   "name": "python",
   "nbconvert_exporter": "python",
   "pygments_lexer": "ipython3",
   "version": "3.12.5"
  }
 },
 "nbformat": 4,
 "nbformat_minor": 5
}
