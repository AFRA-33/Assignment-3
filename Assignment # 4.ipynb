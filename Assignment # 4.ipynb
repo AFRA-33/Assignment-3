{
 "cells": [
  {
   "cell_type": "markdown",
   "id": "3c180687-362b-4a6d-baef-55d1cef7a19c",
   "metadata": {},
   "source": [
    "# **Assignment 4**"
   ]
  },
  {
   "cell_type": "markdown",
   "id": "1d5c0a55-c0b3-4a7c-a4aa-637f04906185",
   "metadata": {},
   "source": [
    "4-1. Guest List: If you could invite anyone, living or deceased, to dinner, who\n",
    "would you invite? Make a list that includes at least three people you’d like to\n",
    "invite to dinner. Then use your list to print a message to each person, inviting\n",
    "them to dinner."
   ]
  },
  {
   "cell_type": "code",
   "execution_count": 4,
   "id": "efb77dcc-9fbd-4235-8de8-89c768b9d869",
   "metadata": {},
   "outputs": [
    {
     "name": "stdout",
     "output_type": "stream",
     "text": [
      "Dear Afra Siddiqui I would love to invite for dinner!\n",
      "Dear Hamda  you are invited to dinner!\n",
      "Dear Samina Will you available tommorrow for dinner with me?\n"
     ]
    }
   ],
   "source": [
    "# Create a list of guests\n",
    "guest_list = [\"Afra Siddiqui\", \"Hamda \", \"Samina\"]\n",
    "\n",
    "print(\"Dear\", guest_list[0], \"I would love to invite for dinner!\")\n",
    "print(\"Dear\", guest_list[1], \"you are invited to dinner!\")\n",
    "print(\"Dear\", guest_list[2], \"Will you available tommorrow for dinner with me?\")"
   ]
  },
  {
   "cell_type": "markdown",
   "id": "2afb98d5-97d7-43d1-b024-54078e337af2",
   "metadata": {},
   "source": [
    "4-2. Changing Guest List: You just heard that one of your guests can’t make the\n",
    "dinner, so you need to send out a new set of invitations. You’ll have to think of\n",
    "someone else to invite."
   ]
  },
  {
   "cell_type": "code",
   "execution_count": 14,
   "id": "314bdc6a-0943-4815-9e56-8255e6e3d9a2",
   "metadata": {},
   "outputs": [
    {
     "name": "stdout",
     "output_type": "stream",
     "text": [
      "\n",
      "Unfortunately, Hamda can't make it to the dinner.\n",
      "\n",
      "Dear  Afra Siddiqui you are invited to dinner!\n",
      "Dear  Mr John Will you available tommorrow for dinner with me?\n",
      "Dear  Hamda  I would love to invite for dinner!\n"
     ]
    }
   ],
   "source": [
    "print(\"\\nUnfortunately, Hamda can't make it to the dinner.\\n\")\n",
    "\n",
    "guest_list = [\"Afra Siddiqui\", \"Hamda \", \"Samina\"]\n",
    "guest_list.insert(1, \"Mr John\")\n",
    "\n",
    "guest_list\n",
    "print(\"Dear \",guest_list[0],\"you are invited to dinner!\")\n",
    "print(\"Dear \",guest_list[1],\"Will you available tommorrow for dinner with me?\")\n",
    "print(\"Dear \",guest_list[2],\"I would love to invite for dinner!\")"
   ]
  },
  {
   "cell_type": "markdown",
   "id": "d21b9d57-e893-4820-b1b2-a2032b9b4d27",
   "metadata": {},
   "source": [
    "4-3. More Guests: You just found a bigger dinner table, so now more space is\n",
    "available. Think of three more guests to invite to dinner.\n",
    "•     Start with your program from Exercise 4-1 or Exercise 4-2. Add a print\n",
    "statement to the end of your program informing people that you found a\n",
    "bigger dinner table. \n",
    "•     Use insert() to add one new guest to the beginning of your list. \n",
    "•     Use insert() to add one new guest to the middle of your list. \n",
    "•     Use append() to add one new guest to the end of your list. \n",
    "•     Print a new set of invitation messages, one for each person in your list. "
   ]
  },
  {
   "cell_type": "code",
   "execution_count": 15,
   "id": "af59c1d2-4b55-479b-860d-b1f316fea4f1",
   "metadata": {},
   "outputs": [
    {
     "name": "stdout",
     "output_type": "stream",
     "text": [
      "\n",
      "Good news! We found a bigger dinner table, so we have more space available.\n",
      "\n",
      "Dear  Sara  you are invited to dinner!\n",
      "Dear  Afra Siddiqui  you are invited to dinner!\n",
      "Dear  Reeba  you are invited to dinner!\n",
      "Dear  Mr John  you are invited to dinner!\n",
      "Dear  Hamda   you are invited to dinner!\n",
      "Dear  Samina  you are invited to dinner!\n",
      "Dear  Zunaira  you are invited to dinner!\n"
     ]
    }
   ],
   "source": [
    "print(\"\\nGood news! We found a bigger dinner table, so we have more space available.\\n\")\n",
    "\n",
    "# Adding new guests\n",
    "guest_list.insert(0, \"Sara\")  \n",
    "guest_list.insert(2, \"Reeba\")  \n",
    "guest_list.append(\"Zunaira\")  \n",
    "\n",
    "guest_list\n",
    "\n",
    "for guest in guest_list:\n",
    "     print(\"Dear \",guest,\" you are invited to dinner!\")"
   ]
  },
  {
   "cell_type": "markdown",
   "id": "e0418353-0b75-45bd-9189-fe8adcfa0b3d",
   "metadata": {},
   "source": [
    " 4-4. Shrinking Guest List: You just found out that your new dinner table won’t\n",
    "arrive in time for the dinner, and you have space for only two guests. \n",
    "•     Start with your program from Exercise 4-3. Add a new line that prints a\n",
    "message saying that you can invite only two people for dinner. \n",
    "•     Use pop() to remove guests from your list one at a time until only two\n",
    "names remain in your list. Each time you pop a name from your list, print\n",
    "a message to that person letting them know you’re sorry you can’t invite\n",
    "them to dinner. \n",
    "•     Print a message to each of the two people still on your list, letting them\n",
    "know they’re still invited. \n",
    "•     Use del to remove the last two names from your list, so you have an empty\n",
    "list. Print your list to make sure you actually have an empty list at the end\n",
    "of your program."
   ]
  },
  {
   "cell_type": "code",
   "execution_count": 16,
   "id": "41935e42-6ce5-4995-ad45-df2814c29f6b",
   "metadata": {},
   "outputs": [
    {
     "data": {
      "text/plain": [
       "['Sara', 'Afra Siddiqui', 'Reeba', 'Mr John', 'Hamda ', 'Samina', 'Zunaira']"
      ]
     },
     "execution_count": 16,
     "metadata": {},
     "output_type": "execute_result"
    }
   ],
   "source": [
    "guest_list"
   ]
  },
  {
   "cell_type": "code",
   "execution_count": 44,
   "id": "b68cc542-aa7e-4936-8a0a-f1358e0a79c9",
   "metadata": {},
   "outputs": [
    {
     "name": "stdout",
     "output_type": "stream",
     "text": [
      "\n",
      "Unfortunately, we can only invite two people to dinner.\n",
      "\n",
      "Sorry Zunaira  \n",
      "we can't invite you to dinner.\n",
      "\n",
      "Sorry Samina  \n",
      "we can't invite you to dinner.\n",
      "\n",
      "Sorry Hamda   \n",
      "we can't invite you to dinner.\n",
      "\n",
      "Sorry Mr John  \n",
      "we can't invite you to dinner.\n",
      "\n",
      "Sorry Reeba  \n",
      "we can't invite you to dinner.\n",
      "\n",
      "Dear Sara \n",
      " you are still invited to dinner!\n",
      "\n",
      "Dear Afra Siddiqui \n",
      " you are still invited to dinner!\n",
      "\n",
      "\n",
      "Final guest list: ['Sara', 'Afra Siddiqui']\n"
     ]
    }
   ],
   "source": [
    "guest_list = ['Sara', 'Afra Siddiqui', 'Reeba', 'Mr John', 'Hamda ', 'Samina', 'Zunaira']\n",
    "\n",
    "print(\"\\nUnfortunately, we can only invite two people to dinner.\\n\")\n",
    "\n",
    "# Remove guests from the list until only two remain\n",
    "while len(guest_list) > 2:\n",
    "    removed_guest = guest_list.pop()\n",
    "    print(\"Sorry\",removed_guest,\" \\nwe can't invite you to dinner.\\n\")\n",
    "\n",
    "guest_list\n",
    "\n",
    "for guest in guest_list:\n",
    "    print(\"Dear\",guest,\"\\n you are still invited to dinner!\\n\")\n",
    "\n",
    "\n",
    "print(\"\\nFinal guest list:\", guest_list)\n"
   ]
  },
  {
   "cell_type": "markdown",
   "id": "80fccb11-2ee4-4c24-ba97-95717b41ad5b",
   "metadata": {},
   "source": [
    "4-5. Make an another list you wish and perform indexing and slicing operations on it.\n",
    "Also all those students who had not completed their marksheet assignment complete that with this one."
   ]
  },
  {
   "cell_type": "code",
   "execution_count": 45,
   "id": "9318f26f-ed45-40f4-9898-b4fbab4e33f2",
   "metadata": {},
   "outputs": [
    {
     "name": "stdout",
     "output_type": "stream",
     "text": [
      "First item: Sara\n",
      "Third item: Reeba\n",
      "Last item: Zunaira\n",
      "Items from index 1 to 3: ['Afra Siddiqui', 'Reeba', 'Mr John']\n",
      "Items from the beginning to index 3: ['Sara', 'Afra Siddiqui', 'Reeba', 'Mr John']\n",
      "Items from index 4 to the end: ['Hamda ', 'Samina', 'Zunaira']\n",
      "Every other item: ['Sara', 'Reeba', 'Hamda ', 'Zunaira']\n",
      "Items in reverse order: ['Zunaira', 'Samina', 'Hamda ', 'Mr John', 'Reeba', 'Afra Siddiqui', 'Sara']\n"
     ]
    }
   ],
   "source": [
    "my_list = ['Sara', 'Afra Siddiqui', 'Reeba', 'Mr John', 'Hamda ', 'Samina', 'Zunaira']\n",
    "\n",
    "# Indexing operations\n",
    "print(\"First item:\", my_list[0])      \n",
    "print(\"Third item:\", my_list[2])       \n",
    "print(\"Last item:\", my_list[-1])       \n",
    "\n",
    "# Slicing operations\n",
    "print(\"Items from index 1 to 3:\", my_list[1:4]) \n",
    "print(\"Items from the beginning to index 3:\", my_list[:4])  \n",
    "print(\"Items from index 4 to the end:\", my_list[4:])\n",
    "print(\"Every other item:\", my_list[::2])  \n",
    "print(\"Items in reverse order:\", my_list[::-1])  \n"
   ]
  },
  {
   "cell_type": "code",
   "execution_count": null,
   "id": "cf537586-20bc-4c00-bd91-44785e8fdc92",
   "metadata": {},
   "outputs": [],
   "source": []
  }
 ],
 "metadata": {
  "kernelspec": {
   "display_name": "Python 3 (ipykernel)",
   "language": "python",
   "name": "python3"
  },
  "language_info": {
   "codemirror_mode": {
    "name": "ipython",
    "version": 3
   },
   "file_extension": ".py",
   "mimetype": "text/x-python",
   "name": "python",
   "nbconvert_exporter": "python",
   "pygments_lexer": "ipython3",
   "version": "3.12.5"
  }
 },
 "nbformat": 4,
 "nbformat_minor": 5
}
