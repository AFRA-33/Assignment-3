{
 "cells": [
  {
   "cell_type": "markdown",
   "id": "5a96c40f-e895-431b-a362-b6037a3579f6",
   "metadata": {},
   "source": [
    "# ***Assignment # 9***"
   ]
  },
  {
   "cell_type": "code",
   "execution_count": null,
   "id": "5cbf5898-920b-44ed-9919-19835cb24402",
   "metadata": {},
   "outputs": [],
   "source": []
  }
 ],
 "metadata": {
  "kernelspec": {
   "display_name": "Python 3 (ipykernel)",
   "language": "python",
   "name": "python3"
  },
  "language_info": {
   "codemirror_mode": {
    "name": "ipython",
    "version": 3
   },
   "file_extension": ".py",
   "mimetype": "text/x-python",
   "name": "python",
   "nbconvert_exporter": "python",
   "pygments_lexer": "ipython3",
   "version": "3.12.5"
  }
 },
 "nbformat": 4,
 "nbformat_minor": 5
}
