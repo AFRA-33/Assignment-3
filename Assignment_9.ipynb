{
 "cells": [
  {
   "cell_type": "markdown",
   "id": "5a96c40f-e895-431b-a362-b6037a3579f6",
   "metadata": {},
   "source": [
    "# ***Assignment # 9***"
   ]
  },
  {
   "cell_type": "code",
<<<<<<< HEAD
   "execution_count": 1,
   "id": "3299b416-07bd-476e-8048-ca8777fea17e",
   "metadata": {},
   "outputs": [],
   "source": [
    "import numpy as np\n",
    "import pandas as pd"
   ]
  },
  {
   "cell_type": "markdown",
   "id": "130d8f6d-3320-480c-b2c9-fafcd141542c",
   "metadata": {},
   "source": [
    "## ***Numpy***"
   ]
  },
  {
   "cell_type": "code",
   "execution_count": 2,
   "id": "e873f075-e7ba-499b-8e5d-3b610bc866d0",
   "metadata": {},
   "outputs": [],
   "source": [
    "arr1 = np.array([1,2,3,4,5])\n",
    "arr2 = np.array([6,7,8,9,10])"
   ]
  },
  {
   "cell_type": "code",
   "execution_count": 3,
   "id": "241eb82c-ecd8-4b9e-bfcf-a9da018bbf55",
   "metadata": {},
   "outputs": [
    {
     "data": {
      "text/plain": [
       "array([ 7,  9, 11, 13, 15])"
      ]
     },
     "execution_count": 3,
     "metadata": {},
     "output_type": "execute_result"
    }
   ],
   "source": [
    "# Addition\n",
    "add = arr1 + arr2\n",
    "add"
   ]
  },
  {
   "cell_type": "code",
   "execution_count": 4,
   "id": "2620e44d-6418-4494-9e3d-c89f23379d23",
   "metadata": {},
   "outputs": [
    {
     "data": {
      "text/plain": [
       "array([-5, -5, -5, -5, -5])"
      ]
     },
     "execution_count": 4,
     "metadata": {},
     "output_type": "execute_result"
    }
   ],
   "source": [
    "# Subtraction\n",
    "add = arr1 - arr2\n",
    "add"
   ]
  },
  {
   "cell_type": "code",
   "execution_count": 5,
   "id": "7fc69d00-2d2f-46d2-9d89-68e9020addf5",
   "metadata": {},
   "outputs": [
    {
     "data": {
      "text/plain": [
       "array([0.16666667, 0.28571429, 0.375     , 0.44444444, 0.5       ])"
      ]
     },
     "execution_count": 5,
     "metadata": {},
     "output_type": "execute_result"
    }
   ],
   "source": [
    "# Division\n",
    "add = arr1 / arr2\n",
    "add"
   ]
  },
  {
   "cell_type": "code",
   "execution_count": 6,
   "id": "0071babc-f610-4144-aa75-81167169e424",
   "metadata": {},
   "outputs": [
    {
     "data": {
      "text/plain": [
       "array([ 6, 14, 24, 36, 50])"
      ]
     },
     "execution_count": 6,
     "metadata": {},
     "output_type": "execute_result"
    }
   ],
   "source": [
    "# Multiplicatio\n",
    "add = arr1 * arr2\n",
    "add"
   ]
  },
  {
   "cell_type": "code",
   "execution_count": 7,
   "id": "5087c39f-69e7-40af-821a-2a5a2f726858",
   "metadata": {},
   "outputs": [
    {
     "name": "stdout",
     "output_type": "stream",
     "text": [
      "4\n",
      "6\n"
     ]
    }
   ],
   "source": [
    "# access specific elements\n",
    "print(arr1[3])\n",
    "print(arr2[0])"
   ]
  },
  {
   "cell_type": "code",
   "execution_count": 19,
   "id": "68cc4e62-a616-429e-a394-2d9206ac0088",
   "metadata": {},
   "outputs": [
    {
     "name": "stdout",
     "output_type": "stream",
     "text": [
      "[2 3]\n",
      "[6 7 8 9]\n",
      "[6]\n",
      "[1 4]\n"
     ]
    }
   ],
   "source": [
    "# slicing \n",
    "print(arr1[1:3])\n",
    "print(arr2[0:4])\n",
    "print(arr2[::5])\n",
    "print(arr1[::3])"
   ]
  },
  {
   "cell_type": "code",
   "execution_count": 20,
   "id": "b2d67b92-ebf9-4a0e-8c18-7f72716c161c",
   "metadata": {},
   "outputs": [
    {
     "data": {
      "text/plain": [
       "array([[1, 2, 3],\n",
       "       [4, 5, 6],\n",
       "       [7, 8, 9]])"
      ]
     },
     "execution_count": 20,
     "metadata": {},
     "output_type": "execute_result"
    }
   ],
   "source": [
    "# reshaping arrays and transposing matrices.\n",
    "arr3 =  np.array([[1,2,3],[4,5,6],[7,8,9]])\n",
    "arr3"
   ]
  },
  {
   "cell_type": "code",
   "execution_count": 26,
   "id": "ba675107-f40c-4479-b6ed-4119a4d7f98d",
   "metadata": {},
   "outputs": [
    {
     "name": "stdout",
     "output_type": "stream",
     "text": [
      "2\n",
      "1\n"
     ]
    }
   ],
   "source": [
    "print(arr3.ndim)\n",
    "print(arr1.ndim)"
   ]
  },
  {
   "cell_type": "code",
   "execution_count": 34,
   "id": "c3d2da17-3e13-4389-be61-5d20c4ed601c",
   "metadata": {},
   "outputs": [
    {
     "name": "stdout",
     "output_type": "stream",
     "text": [
      "2\n"
     ]
    }
   ],
   "source": [
    "arr4 =  np.array([[1,2,3],[4,5,6],[7,8,9]])\n",
    "arr4\n",
    "print(arr4.ndim)"
   ]
  },
  {
   "cell_type": "code",
   "execution_count": 35,
   "id": "d3e7da70-6c47-4d05-ae1f-08ff02094ed6",
   "metadata": {},
   "outputs": [
    {
     "data": {
      "text/plain": [
       "array([[1, 2, 3],\n",
       "       [4, 5, 6],\n",
       "       [7, 8, 9]])"
      ]
     },
     "execution_count": 35,
     "metadata": {},
     "output_type": "execute_result"
    }
   ],
   "source": [
    "arr4"
   ]
  },
  {
   "cell_type": "code",
   "execution_count": 36,
   "id": "9e8a3495-fa77-4980-a32b-717abc4d466b",
   "metadata": {},
   "outputs": [
    {
     "data": {
      "text/plain": [
       "array([[1, 4, 7],\n",
       "       [2, 5, 8],\n",
       "       [3, 6, 9]])"
      ]
     },
     "execution_count": 36,
     "metadata": {},
     "output_type": "execute_result"
    }
   ],
   "source": [
    "# transpose array\n",
    "transpose_array = np.transpose(arr4)\n",
    "transpose_array"
   ]
  },
  {
   "cell_type": "code",
   "execution_count": 37,
   "id": "491a1819-e112-4e5a-ad4c-3a8d2e676f65",
   "metadata": {},
   "outputs": [
    {
     "data": {
      "text/plain": [
       "array([10, 20, 30, 40, 50])"
      ]
     },
     "execution_count": 37,
     "metadata": {},
     "output_type": "execute_result"
    }
   ],
   "source": [
    "# Use NumPy functions to calculate statistics like mean, median, standard deviation, and variance.\n",
    "data = np.array([10, 20, 30, 40, 50])\n",
    "data"
   ]
  },
  {
   "cell_type": "code",
   "execution_count": 38,
   "id": "110aeb6a-a8c9-4aa9-b84e-1b13ef83fad5",
   "metadata": {},
   "outputs": [
    {
     "name": "stdout",
     "output_type": "stream",
     "text": [
      "Mean : 30.0\n"
     ]
    }
   ],
   "source": [
    "mean = np.mean(data)\n",
    "print(f\"Mean : {mean}\")"
   ]
  },
  {
   "cell_type": "code",
   "execution_count": 43,
   "id": "e91611e0-6dd5-4acb-8a3a-074ffa5c76db",
   "metadata": {},
   "outputs": [
    {
     "name": "stdout",
     "output_type": "stream",
     "text": [
      "Median : 30.0\n"
     ]
    }
   ],
   "source": [
    "median = np.median(data)\n",
    "print(f\"Median : {median}\")"
   ]
  },
  {
   "cell_type": "code",
   "execution_count": 41,
   "id": "fc9824a6-07be-4dec-b7d9-f74b3df83d65",
   "metadata": {},
   "outputs": [
    {
     "name": "stdout",
     "output_type": "stream",
     "text": [
      "Standard Deviation: 14.142135623730951\n"
     ]
    }
   ],
   "source": [
    "std_dev = np.std(data)\n",
    "print(f\"Standard Deviation: {std_dev}\")"
   ]
  },
  {
   "cell_type": "code",
   "execution_count": 42,
   "id": "1c99ab19-b4a1-4edf-a65f-32e6a5ad2aaf",
   "metadata": {},
   "outputs": [
    {
     "name": "stdout",
     "output_type": "stream",
     "text": [
      "variance : 200.0\n"
     ]
    }
   ],
   "source": [
    "variance = np.var(data)\n",
    "print(f\"variance : {variance}\")"
   ]
  },
  {
   "cell_type": "code",
   "execution_count": 44,
   "id": "bc9b6b05-918f-4fc9-a6f7-057341845b42",
   "metadata": {},
   "outputs": [
    {
     "name": "stdout",
     "output_type": "stream",
     "text": [
      "Integer Array:\n",
      "[1 2 3 4]\n",
      "Data Type: int64\n"
     ]
    }
   ],
   "source": [
    "# Create arrays with different data types (e.g., int, float, bool, str)\n",
    "\n",
    "int_array = np.array([1, 2, 3, 4], dtype=int)\n",
    "\n",
    "print(\"Integer Array:\")\n",
    "print(int_array)\n",
    "print(\"Data Type:\", int_array.dtype)"
   ]
  },
  {
   "cell_type": "code",
   "execution_count": 45,
   "id": "d8ced8f9-7e3a-45ec-9eee-9da561a236b9",
   "metadata": {},
   "outputs": [
    {
     "name": "stdout",
     "output_type": "stream",
     "text": [
      "Float Array:\n",
      "[1.1 2.2 3.3 4.4]\n",
      "Data Type: float64\n"
     ]
    }
   ],
   "source": [
    "float_array = np.array([1.1, 2.2, 3.3, 4.4], dtype=float)\n",
    "\n",
    "print(\"Float Array:\")\n",
    "print(float_array)\n",
    "print(\"Data Type:\", float_array.dtype)"
   ]
  },
  {
   "cell_type": "code",
   "execution_count": 46,
   "id": "16fb29e9-1e83-4e40-b138-2a0c6838bf2f",
   "metadata": {},
   "outputs": [
    {
     "name": "stdout",
     "output_type": "stream",
     "text": [
      "Boolean Array:\n",
      "[ True False  True False]\n",
      "Data Type: bool\n"
     ]
    }
   ],
   "source": [
    "bool_array = np.array([True, False, True, False], dtype=bool)\n",
    "\n",
    "print(\"Boolean Array:\")\n",
    "print(bool_array)\n",
    "print(\"Data Type:\", bool_array.dtype)"
   ]
  },
  {
   "cell_type": "code",
   "execution_count": 47,
   "id": "9ccd73a9-4a13-47d4-a349-3c236409664a",
   "metadata": {},
   "outputs": [
    {
     "name": "stdout",
     "output_type": "stream",
     "text": [
      "String Array:\n",
      "['apple' 'banana' 'cherry']\n",
      "Data Type: <U6\n"
     ]
    }
   ],
   "source": [
    "str_array = np.array(['apple', 'banana', 'cherry'], dtype=str)\n",
    "\n",
    "print(\"String Array:\")\n",
    "print(str_array)\n",
    "print(\"Data Type:\", str_array.dtype)"
   ]
  },
  {
   "cell_type": "code",
   "execution_count": 52,
   "id": "9568e2ed-051a-4507-9e0c-113c5811dfe1",
   "metadata": {},
   "outputs": [],
   "source": [
    "# Concatenate arrays.\n",
    "concatenated_arr = np.concatenate((arr1,arr2))"
   ]
  },
  {
   "cell_type": "code",
   "execution_count": 50,
   "id": "a41721b5-3c20-40e6-b16f-c9b03c6a911d",
   "metadata": {},
   "outputs": [
    {
     "name": "stdout",
     "output_type": "stream",
     "text": [
      "Concatenated Array:\n",
      "[ 1  2  3  4  5  6  7  8  9 10]\n"
     ]
    }
   ],
   "source": [
    "print(\"Concatenated Array:\")\n",
    "print(concatenated_arr)"
   ]
  },
  {
   "cell_type": "code",
   "execution_count": 53,
   "id": "817c6521-97b4-488b-9995-a63a5f81e5b0",
   "metadata": {},
   "outputs": [],
   "source": [
    "arr2D_1 = np.array([[1, 2], [3, 4]])\n",
    "arr2D_2 = np.array([[5, 6], [7, 8]])\n"
   ]
  },
  {
   "cell_type": "code",
   "execution_count": 55,
   "id": "d123c0a5-17d7-4f53-ab74-cddcc9d86053",
   "metadata": {},
   "outputs": [
    {
     "name": "stdout",
     "output_type": "stream",
     "text": [
      "Concatenated along rows (axis 0):\n",
      "[[1 2]\n",
      " [3 4]\n",
      " [5 6]\n",
      " [7 8]]\n",
      "Concatenated along columns (axis 1):\n",
      "[[1 2 5 6]\n",
      " [3 4 7 8]]\n"
     ]
    }
   ],
   "source": [
    "# Concatenate along axis 0 (rows)\n",
    "concatenated_2D_row = np.concatenate((arr2D_1, arr2D_2), axis=0)\n",
    "\n",
    "# Concatenate along axis 1 (columns)\n",
    "concatenated_2D_col = np.concatenate((arr2D_1, arr2D_2), axis=1)\n",
    "\n",
    "print(\"Concatenated along rows (axis 0):\")\n",
    "print(concatenated_2D_row)\n",
    "\n",
    "print(\"Concatenated along columns (axis 1):\")\n",
    "print(concatenated_2D_col)\n"
   ]
  },
  {
   "cell_type": "code",
   "execution_count": 56,
   "id": "8cae943b-ad28-4fe4-ac62-36b380a73a6d",
   "metadata": {},
   "outputs": [],
   "source": [
    "# Sort arrays in ascending or descending order.\n",
    "unsorted_arr = np.array([40, 10, 30, 20, 50])"
   ]
  },
  {
   "cell_type": "code",
   "execution_count": 57,
   "id": "49d716ce-786c-4850-a32f-9abe350cb146",
   "metadata": {},
   "outputs": [
    {
     "name": "stdout",
     "output_type": "stream",
     "text": [
      "Sorted in Ascending Order:\n",
      "[10 20 30 40 50]\n",
      "Sorted in Descending Order:\n",
      "[50 40 30 20 10]\n"
     ]
    }
   ],
   "source": [
    "# Sort in ascending order\n",
    "sorted_asc = np.sort(unsorted_arr)\n",
    "\n",
    "# Sort in descending order\n",
    "sorted_desc = np.sort(unsorted_arr)[::-1]\n",
    "\n",
    "print(\"Sorted in Ascending Order:\")\n",
    "print(sorted_asc)\n",
    "\n",
    "print(\"Sorted in Descending Order:\")\n",
    "print(sorted_desc)"
   ]
  },
  {
   "cell_type": "code",
   "execution_count": 58,
   "id": "4753a3ea-8140-400a-b8bc-3a621a60eba9",
   "metadata": {},
   "outputs": [],
   "source": [
    "unsorted_2D = np.array([[30, 10, 20], [40, 60, 50]])"
   ]
  },
  {
   "cell_type": "code",
   "execution_count": 60,
   "id": "7bae15fe-34a3-458a-86f5-d33c3fe7e105",
   "metadata": {},
   "outputs": [
    {
     "name": "stdout",
     "output_type": "stream",
     "text": [
      "2D Array sorted along rows (axis=1):\n",
      "[[10 20 30]\n",
      " [40 50 60]]\n",
      "2D Array sorted along columns (axis=0):\n",
      "[[30 10 20]\n",
      " [40 60 50]]\n"
     ]
    }
   ],
   "source": [
    "# Sort along rows (axis=1)\n",
    "sorted_2D_rows = np.sort(unsorted_2D, axis=1)\n",
    "\n",
    "# Sort along columns (axis=0)\n",
    "sorted_2D_cols = np.sort(unsorted_2D, axis=0)\n",
    "\n",
    "print(\"2D Array sorted along rows (axis=1):\")\n",
    "print(sorted_2D_rows)\n",
    "\n",
    "print(\"2D Array sorted along columns (axis=0):\")\n",
    "print(sorted_2D_cols)"
   ]
  },
  {
   "cell_type": "markdown",
   "id": "03472b70-ab09-4531-8389-3e6b7df970c7",
   "metadata": {},
   "source": [
    "## ***Pandas***"
   ]
  },
  {
   "cell_type": "code",
   "execution_count": 63,
   "id": "12edbaa6-742c-4a8a-8455-471eb5348958",
   "metadata": {},
   "outputs": [
    {
     "data": {
      "text/html": [
       "<div>\n",
       "<style scoped>\n",
       "    .dataframe tbody tr th:only-of-type {\n",
       "        vertical-align: middle;\n",
       "    }\n",
       "\n",
       "    .dataframe tbody tr th {\n",
       "        vertical-align: top;\n",
       "    }\n",
       "\n",
       "    .dataframe thead th {\n",
       "        text-align: right;\n",
       "    }\n",
       "</style>\n",
       "<table border=\"1\" class=\"dataframe\">\n",
       "  <thead>\n",
       "    <tr style=\"text-align: right;\">\n",
       "      <th></th>\n",
       "      <th>ID</th>\n",
       "      <th>class</th>\n",
       "      <th>gender</th>\n",
       "      <th>race</th>\n",
       "      <th>GPA</th>\n",
       "      <th>Algebra</th>\n",
       "      <th>Calculus1</th>\n",
       "      <th>Calculus2</th>\n",
       "      <th>Statistics</th>\n",
       "      <th>Probability</th>\n",
       "      <th>Measure</th>\n",
       "      <th>Functional_analysis</th>\n",
       "      <th>from1</th>\n",
       "      <th>from2</th>\n",
       "      <th>from3</th>\n",
       "      <th>from4</th>\n",
       "      <th>y</th>\n",
       "    </tr>\n",
       "  </thead>\n",
       "  <tbody>\n",
       "    <tr>\n",
       "      <th>0</th>\n",
       "      <td>1141</td>\n",
       "      <td>A</td>\n",
       "      <td>male</td>\n",
       "      <td>1</td>\n",
       "      <td>73.47</td>\n",
       "      <td>64</td>\n",
       "      <td>81</td>\n",
       "      <td>87</td>\n",
       "      <td>60</td>\n",
       "      <td>74</td>\n",
       "      <td>71</td>\n",
       "      <td>60</td>\n",
       "      <td>A</td>\n",
       "      <td>A</td>\n",
       "      <td>A</td>\n",
       "      <td>3</td>\n",
       "      <td>0</td>\n",
       "    </tr>\n",
       "    <tr>\n",
       "      <th>1</th>\n",
       "      <td>1142</td>\n",
       "      <td>A</td>\n",
       "      <td>female</td>\n",
       "      <td>1</td>\n",
       "      <td>71.22</td>\n",
       "      <td>57</td>\n",
       "      <td>50</td>\n",
       "      <td>51</td>\n",
       "      <td>51</td>\n",
       "      <td>55</td>\n",
       "      <td>62</td>\n",
       "      <td>61</td>\n",
       "      <td>B</td>\n",
       "      <td>A</td>\n",
       "      <td>A</td>\n",
       "      <td>2</td>\n",
       "      <td>0</td>\n",
       "    </tr>\n",
       "    <tr>\n",
       "      <th>2</th>\n",
       "      <td>1143</td>\n",
       "      <td>A</td>\n",
       "      <td>female</td>\n",
       "      <td>2</td>\n",
       "      <td>74.56</td>\n",
       "      <td>47</td>\n",
       "      <td>48</td>\n",
       "      <td>71</td>\n",
       "      <td>60</td>\n",
       "      <td>61</td>\n",
       "      <td>68</td>\n",
       "      <td>64</td>\n",
       "      <td>C</td>\n",
       "      <td>A</td>\n",
       "      <td>A</td>\n",
       "      <td>0</td>\n",
       "      <td>1</td>\n",
       "    </tr>\n",
       "    <tr>\n",
       "      <th>3</th>\n",
       "      <td>1144</td>\n",
       "      <td>A</td>\n",
       "      <td>female</td>\n",
       "      <td>1</td>\n",
       "      <td>72.89</td>\n",
       "      <td>46</td>\n",
       "      <td>72</td>\n",
       "      <td>38</td>\n",
       "      <td>60</td>\n",
       "      <td>29</td>\n",
       "      <td>54</td>\n",
       "      <td>51</td>\n",
       "      <td>D</td>\n",
       "      <td>A</td>\n",
       "      <td>A</td>\n",
       "      <td>0</td>\n",
       "      <td>0</td>\n",
       "    </tr>\n",
       "    <tr>\n",
       "      <th>4</th>\n",
       "      <td>1145</td>\n",
       "      <td>A</td>\n",
       "      <td>female</td>\n",
       "      <td>1</td>\n",
       "      <td>70.11</td>\n",
       "      <td>49</td>\n",
       "      <td>45</td>\n",
       "      <td>63</td>\n",
       "      <td>60</td>\n",
       "      <td>66</td>\n",
       "      <td>66</td>\n",
       "      <td>61</td>\n",
       "      <td>E</td>\n",
       "      <td>A</td>\n",
       "      <td>A</td>\n",
       "      <td>0</td>\n",
       "      <td>0</td>\n",
       "    </tr>\n",
       "    <tr>\n",
       "      <th>...</th>\n",
       "      <td>...</td>\n",
       "      <td>...</td>\n",
       "      <td>...</td>\n",
       "      <td>...</td>\n",
       "      <td>...</td>\n",
       "      <td>...</td>\n",
       "      <td>...</td>\n",
       "      <td>...</td>\n",
       "      <td>...</td>\n",
       "      <td>...</td>\n",
       "      <td>...</td>\n",
       "      <td>...</td>\n",
       "      <td>...</td>\n",
       "      <td>...</td>\n",
       "      <td>...</td>\n",
       "      <td>...</td>\n",
       "      <td>...</td>\n",
       "    </tr>\n",
       "    <tr>\n",
       "      <th>100</th>\n",
       "      <td>1241</td>\n",
       "      <td>A</td>\n",
       "      <td>female</td>\n",
       "      <td>1</td>\n",
       "      <td>88.34</td>\n",
       "      <td>87</td>\n",
       "      <td>83</td>\n",
       "      <td>92</td>\n",
       "      <td>98</td>\n",
       "      <td>93</td>\n",
       "      <td>86</td>\n",
       "      <td>90</td>\n",
       "      <td>M</td>\n",
       "      <td>B</td>\n",
       "      <td>A</td>\n",
       "      <td>0</td>\n",
       "      <td>1</td>\n",
       "    </tr>\n",
       "    <tr>\n",
       "      <th>101</th>\n",
       "      <td>1242</td>\n",
       "      <td>B</td>\n",
       "      <td>male</td>\n",
       "      <td>1</td>\n",
       "      <td>89.84</td>\n",
       "      <td>98</td>\n",
       "      <td>77</td>\n",
       "      <td>95</td>\n",
       "      <td>98</td>\n",
       "      <td>96</td>\n",
       "      <td>88</td>\n",
       "      <td>100</td>\n",
       "      <td>A</td>\n",
       "      <td>B</td>\n",
       "      <td>A</td>\n",
       "      <td>0</td>\n",
       "      <td>1</td>\n",
       "    </tr>\n",
       "    <tr>\n",
       "      <th>102</th>\n",
       "      <td>1243</td>\n",
       "      <td>B</td>\n",
       "      <td>male</td>\n",
       "      <td>1</td>\n",
       "      <td>88.82</td>\n",
       "      <td>83</td>\n",
       "      <td>80</td>\n",
       "      <td>91</td>\n",
       "      <td>98</td>\n",
       "      <td>93</td>\n",
       "      <td>95</td>\n",
       "      <td>71</td>\n",
       "      <td>T</td>\n",
       "      <td>B</td>\n",
       "      <td>A</td>\n",
       "      <td>0</td>\n",
       "      <td>2</td>\n",
       "    </tr>\n",
       "    <tr>\n",
       "      <th>103</th>\n",
       "      <td>1244</td>\n",
       "      <td>A</td>\n",
       "      <td>male</td>\n",
       "      <td>1</td>\n",
       "      <td>86.60</td>\n",
       "      <td>92</td>\n",
       "      <td>82</td>\n",
       "      <td>91</td>\n",
       "      <td>99</td>\n",
       "      <td>94</td>\n",
       "      <td>82</td>\n",
       "      <td>78</td>\n",
       "      <td>S</td>\n",
       "      <td>B</td>\n",
       "      <td>A</td>\n",
       "      <td>0</td>\n",
       "      <td>2</td>\n",
       "    </tr>\n",
       "    <tr>\n",
       "      <th>104</th>\n",
       "      <td>1245</td>\n",
       "      <td>A</td>\n",
       "      <td>male</td>\n",
       "      <td>1</td>\n",
       "      <td>93.71</td>\n",
       "      <td>93</td>\n",
       "      <td>97</td>\n",
       "      <td>99</td>\n",
       "      <td>100</td>\n",
       "      <td>97</td>\n",
       "      <td>90</td>\n",
       "      <td>90</td>\n",
       "      <td>K</td>\n",
       "      <td>B</td>\n",
       "      <td>A</td>\n",
       "      <td>0</td>\n",
       "      <td>2</td>\n",
       "    </tr>\n",
       "  </tbody>\n",
       "</table>\n",
       "<p>105 rows × 17 columns</p>\n",
       "</div>"
      ],
      "text/plain": [
       "       ID class  gender  race    GPA  Algebra  Calculus1  Calculus2  \\\n",
       "0    1141     A    male     1  73.47       64         81         87   \n",
       "1    1142     A  female     1  71.22       57         50         51   \n",
       "2    1143     A  female     2  74.56       47         48         71   \n",
       "3    1144     A  female     1  72.89       46         72         38   \n",
       "4    1145     A  female     1  70.11       49         45         63   \n",
       "..    ...   ...     ...   ...    ...      ...        ...        ...   \n",
       "100  1241     A  female     1  88.34       87         83         92   \n",
       "101  1242     B    male     1  89.84       98         77         95   \n",
       "102  1243     B    male     1  88.82       83         80         91   \n",
       "103  1244     A    male     1  86.60       92         82         91   \n",
       "104  1245     A    male     1  93.71       93         97         99   \n",
       "\n",
       "     Statistics  Probability  Measure  Functional_analysis from1 from2 from3  \\\n",
       "0            60           74       71                   60     A     A     A   \n",
       "1            51           55       62                   61     B     A     A   \n",
       "2            60           61       68                   64     C     A     A   \n",
       "3            60           29       54                   51     D     A     A   \n",
       "4            60           66       66                   61     E     A     A   \n",
       "..          ...          ...      ...                  ...   ...   ...   ...   \n",
       "100          98           93       86                   90     M     B     A   \n",
       "101          98           96       88                  100     A     B     A   \n",
       "102          98           93       95                   71     T     B     A   \n",
       "103          99           94       82                   78     S     B     A   \n",
       "104         100           97       90                   90     K     B     A   \n",
       "\n",
       "     from4  y  \n",
       "0        3  0  \n",
       "1        2  0  \n",
       "2        0  1  \n",
       "3        0  0  \n",
       "4        0  0  \n",
       "..     ... ..  \n",
       "100      0  1  \n",
       "101      0  1  \n",
       "102      0  2  \n",
       "103      0  2  \n",
       "104      0  2  \n",
       "\n",
       "[105 rows x 17 columns]"
      ]
     },
     "execution_count": 63,
     "metadata": {},
     "output_type": "execute_result"
    }
   ],
   "source": [
    "df = pd.read_csv('Students data.csv')\n",
    "df"
   ]
  },
  {
   "cell_type": "code",
   "execution_count": 70,
   "id": "17c159ec-e22a-43e9-8f7f-22e32f7044e9",
   "metadata": {},
   "outputs": [
    {
     "name": "stdout",
     "output_type": "stream",
     "text": [
      "<class 'pandas.core.frame.DataFrame'>\n",
      "RangeIndex: 105 entries, 0 to 104\n",
      "Data columns (total 17 columns):\n",
      " #   Column               Non-Null Count  Dtype  \n",
      "---  ------               --------------  -----  \n",
      " 0   ID                   105 non-null    int64  \n",
      " 1   class                105 non-null    object \n",
      " 2   gender               105 non-null    object \n",
      " 3   race                 105 non-null    int64  \n",
      " 4   GPA                  105 non-null    float64\n",
      " 5   Algebra              105 non-null    int64  \n",
      " 6   Calculus1            105 non-null    int64  \n",
      " 7   Calculus2            105 non-null    int64  \n",
      " 8   Statistics           105 non-null    int64  \n",
      " 9   Probability          105 non-null    int64  \n",
      " 10  Measure              105 non-null    int64  \n",
      " 11  Functional_analysis  105 non-null    int64  \n",
      " 12  from1                105 non-null    object \n",
      " 13  from2                105 non-null    object \n",
      " 14  from3                105 non-null    object \n",
      " 15  from4                105 non-null    int64  \n",
      " 16  y                    105 non-null    int64  \n",
      "dtypes: float64(1), int64(11), object(5)\n",
      "memory usage: 14.1+ KB\n"
     ]
    }
   ],
   "source": [
    "df.info()"
   ]
  },
  {
   "cell_type": "code",
   "execution_count": 65,
   "id": "db474871-f392-44ab-b774-9dd12803db2e",
   "metadata": {},
   "outputs": [
    {
     "data": {
      "text/plain": [
       "Index(['ID', 'class', 'gender', 'race', 'GPA', 'Algebra', 'Calculus1',\n",
       "       'Calculus2', 'Statistics', 'Probability', 'Measure',\n",
       "       'Functional_analysis', 'from1', 'from2', 'from3', 'from4', 'y'],\n",
       "      dtype='object')"
      ]
     },
     "execution_count": 65,
     "metadata": {},
     "output_type": "execute_result"
    }
   ],
   "source": [
    "df.columns"
   ]
  },
  {
   "cell_type": "code",
   "execution_count": 66,
   "id": "e19555e8-6ce1-45ee-a1af-bf2079849d73",
   "metadata": {},
   "outputs": [
    {
     "data": {
      "text/plain": [
       "ID    class  gender  race  GPA    Algebra  Calculus1  Calculus2  Statistics  Probability  Measure  Functional_analysis  from1  from2  from3  from4  y\n",
       "1141  A      male    1     73.47  64       81         87         60          74           71       60                   A      A      A      3      0    1\n",
       "1142  A      female  1     71.22  57       50         51         51          55           62       61                   B      A      A      2      0    1\n",
       "1143  A      female  2     74.56  47       48         71         60          61           68       64                   C      A      A      0      1    1\n",
       "1144  A      female  1     72.89  46       72         38         60          29           54       51                   D      A      A      0      0    1\n",
       "1145  A      female  1     70.11  49       45         63         60          66           66       61                   E      A      A      0      0    1\n",
       "                                                                                                                                                        ..\n",
       "1241  A      female  1     88.34  87       83         92         98          93           86       90                   M      B      A      0      1    1\n",
       "1242  B      male    1     89.84  98       77         95         98          96           88       100                  A      B      A      0      1    1\n",
       "1243  B      male    1     88.82  83       80         91         98          93           95       71                   T      B      A      0      2    1\n",
       "1244  A      male    1     86.60  92       82         91         99          94           82       78                   S      B      A      0      2    1\n",
       "1245  A      male    1     93.71  93       97         99         100         97           90       90                   K      B      A      0      2    1\n",
       "Name: count, Length: 105, dtype: int64"
      ]
     },
     "execution_count": 66,
     "metadata": {},
     "output_type": "execute_result"
    }
   ],
   "source": [
    "df.value_counts()"
   ]
  },
  {
   "cell_type": "code",
   "execution_count": 67,
   "id": "741f6802-1dbe-442d-956b-1b099a8101d4",
   "metadata": {},
   "outputs": [
    {
     "data": {
      "text/html": [
       "<div>\n",
       "<style scoped>\n",
       "    .dataframe tbody tr th:only-of-type {\n",
       "        vertical-align: middle;\n",
       "    }\n",
       "\n",
       "    .dataframe tbody tr th {\n",
       "        vertical-align: top;\n",
       "    }\n",
       "\n",
       "    .dataframe thead th {\n",
       "        text-align: right;\n",
       "    }\n",
       "</style>\n",
       "<table border=\"1\" class=\"dataframe\">\n",
       "  <thead>\n",
       "    <tr style=\"text-align: right;\">\n",
       "      <th></th>\n",
       "      <th>ID</th>\n",
       "      <th>race</th>\n",
       "      <th>GPA</th>\n",
       "      <th>Algebra</th>\n",
       "      <th>Calculus1</th>\n",
       "      <th>Calculus2</th>\n",
       "      <th>Statistics</th>\n",
       "      <th>Probability</th>\n",
       "      <th>Measure</th>\n",
       "      <th>Functional_analysis</th>\n",
       "      <th>from4</th>\n",
       "      <th>y</th>\n",
       "    </tr>\n",
       "  </thead>\n",
       "  <tbody>\n",
       "    <tr>\n",
       "      <th>count</th>\n",
       "      <td>105.000000</td>\n",
       "      <td>105.000000</td>\n",
       "      <td>105.000000</td>\n",
       "      <td>105.000000</td>\n",
       "      <td>105.000000</td>\n",
       "      <td>105.000000</td>\n",
       "      <td>105.000000</td>\n",
       "      <td>105.000000</td>\n",
       "      <td>105.000000</td>\n",
       "      <td>105.000000</td>\n",
       "      <td>105.000000</td>\n",
       "      <td>105.000000</td>\n",
       "    </tr>\n",
       "    <tr>\n",
       "      <th>mean</th>\n",
       "      <td>1193.000000</td>\n",
       "      <td>1.790476</td>\n",
       "      <td>82.957048</td>\n",
       "      <td>76.057143</td>\n",
       "      <td>71.961905</td>\n",
       "      <td>78.942857</td>\n",
       "      <td>85.133333</td>\n",
       "      <td>83.876190</td>\n",
       "      <td>80.761905</td>\n",
       "      <td>75.323810</td>\n",
       "      <td>0.504762</td>\n",
       "      <td>0.714286</td>\n",
       "    </tr>\n",
       "    <tr>\n",
       "      <th>std</th>\n",
       "      <td>30.454885</td>\n",
       "      <td>1.673867</td>\n",
       "      <td>6.053187</td>\n",
       "      <td>11.722618</td>\n",
       "      <td>12.197039</td>\n",
       "      <td>14.997326</td>\n",
       "      <td>10.269509</td>\n",
       "      <td>10.514363</td>\n",
       "      <td>10.296119</td>\n",
       "      <td>13.003324</td>\n",
       "      <td>0.889293</td>\n",
       "      <td>0.828742</td>\n",
       "    </tr>\n",
       "    <tr>\n",
       "      <th>min</th>\n",
       "      <td>1141.000000</td>\n",
       "      <td>1.000000</td>\n",
       "      <td>63.490000</td>\n",
       "      <td>46.000000</td>\n",
       "      <td>38.000000</td>\n",
       "      <td>17.000000</td>\n",
       "      <td>51.000000</td>\n",
       "      <td>29.000000</td>\n",
       "      <td>54.000000</td>\n",
       "      <td>9.000000</td>\n",
       "      <td>0.000000</td>\n",
       "      <td>0.000000</td>\n",
       "    </tr>\n",
       "    <tr>\n",
       "      <th>25%</th>\n",
       "      <td>1167.000000</td>\n",
       "      <td>1.000000</td>\n",
       "      <td>79.340000</td>\n",
       "      <td>67.000000</td>\n",
       "      <td>64.000000</td>\n",
       "      <td>71.000000</td>\n",
       "      <td>80.000000</td>\n",
       "      <td>79.000000</td>\n",
       "      <td>74.000000</td>\n",
       "      <td>67.000000</td>\n",
       "      <td>0.000000</td>\n",
       "      <td>0.000000</td>\n",
       "    </tr>\n",
       "    <tr>\n",
       "      <th>50%</th>\n",
       "      <td>1193.000000</td>\n",
       "      <td>1.000000</td>\n",
       "      <td>84.110000</td>\n",
       "      <td>76.000000</td>\n",
       "      <td>73.000000</td>\n",
       "      <td>83.000000</td>\n",
       "      <td>87.000000</td>\n",
       "      <td>85.000000</td>\n",
       "      <td>81.000000</td>\n",
       "      <td>76.000000</td>\n",
       "      <td>0.000000</td>\n",
       "      <td>0.000000</td>\n",
       "    </tr>\n",
       "    <tr>\n",
       "      <th>75%</th>\n",
       "      <td>1219.000000</td>\n",
       "      <td>1.000000</td>\n",
       "      <td>87.300000</td>\n",
       "      <td>84.000000</td>\n",
       "      <td>80.000000</td>\n",
       "      <td>91.000000</td>\n",
       "      <td>92.000000</td>\n",
       "      <td>92.000000</td>\n",
       "      <td>89.000000</td>\n",
       "      <td>85.000000</td>\n",
       "      <td>0.000000</td>\n",
       "      <td>1.000000</td>\n",
       "    </tr>\n",
       "    <tr>\n",
       "      <th>max</th>\n",
       "      <td>1245.000000</td>\n",
       "      <td>7.000000</td>\n",
       "      <td>93.710000</td>\n",
       "      <td>98.000000</td>\n",
       "      <td>100.000000</td>\n",
       "      <td>99.000000</td>\n",
       "      <td>100.000000</td>\n",
       "      <td>97.000000</td>\n",
       "      <td>100.000000</td>\n",
       "      <td>100.000000</td>\n",
       "      <td>3.000000</td>\n",
       "      <td>2.000000</td>\n",
       "    </tr>\n",
       "  </tbody>\n",
       "</table>\n",
       "</div>"
      ],
      "text/plain": [
       "                ID        race         GPA     Algebra   Calculus1  \\\n",
       "count   105.000000  105.000000  105.000000  105.000000  105.000000   \n",
       "mean   1193.000000    1.790476   82.957048   76.057143   71.961905   \n",
       "std      30.454885    1.673867    6.053187   11.722618   12.197039   \n",
       "min    1141.000000    1.000000   63.490000   46.000000   38.000000   \n",
       "25%    1167.000000    1.000000   79.340000   67.000000   64.000000   \n",
       "50%    1193.000000    1.000000   84.110000   76.000000   73.000000   \n",
       "75%    1219.000000    1.000000   87.300000   84.000000   80.000000   \n",
       "max    1245.000000    7.000000   93.710000   98.000000  100.000000   \n",
       "\n",
       "        Calculus2  Statistics  Probability     Measure  Functional_analysis  \\\n",
       "count  105.000000  105.000000   105.000000  105.000000           105.000000   \n",
       "mean    78.942857   85.133333    83.876190   80.761905            75.323810   \n",
       "std     14.997326   10.269509    10.514363   10.296119            13.003324   \n",
       "min     17.000000   51.000000    29.000000   54.000000             9.000000   \n",
       "25%     71.000000   80.000000    79.000000   74.000000            67.000000   \n",
       "50%     83.000000   87.000000    85.000000   81.000000            76.000000   \n",
       "75%     91.000000   92.000000    92.000000   89.000000            85.000000   \n",
       "max     99.000000  100.000000    97.000000  100.000000           100.000000   \n",
       "\n",
       "            from4           y  \n",
       "count  105.000000  105.000000  \n",
       "mean     0.504762    0.714286  \n",
       "std      0.889293    0.828742  \n",
       "min      0.000000    0.000000  \n",
       "25%      0.000000    0.000000  \n",
       "50%      0.000000    0.000000  \n",
       "75%      0.000000    1.000000  \n",
       "max      3.000000    2.000000  "
      ]
     },
     "execution_count": 67,
     "metadata": {},
     "output_type": "execute_result"
    }
   ],
   "source": [
    "df.describe()"
   ]
  },
  {
   "cell_type": "code",
   "execution_count": 69,
   "id": "ff12712e-c393-4a88-bd06-d8e756011568",
   "metadata": {},
   "outputs": [
    {
     "data": {
      "text/html": [
       "<div>\n",
       "<style scoped>\n",
       "    .dataframe tbody tr th:only-of-type {\n",
       "        vertical-align: middle;\n",
       "    }\n",
       "\n",
       "    .dataframe tbody tr th {\n",
       "        vertical-align: top;\n",
       "    }\n",
       "\n",
       "    .dataframe thead th {\n",
       "        text-align: right;\n",
       "    }\n",
       "</style>\n",
       "<table border=\"1\" class=\"dataframe\">\n",
       "  <thead>\n",
       "    <tr style=\"text-align: right;\">\n",
       "      <th></th>\n",
       "      <th>ID</th>\n",
       "      <th>class</th>\n",
       "      <th>gender</th>\n",
       "      <th>race</th>\n",
       "      <th>GPA</th>\n",
       "      <th>Algebra</th>\n",
       "      <th>Calculus1</th>\n",
       "      <th>Calculus2</th>\n",
       "      <th>Statistics</th>\n",
       "      <th>Probability</th>\n",
       "      <th>Measure</th>\n",
       "      <th>Functional_analysis</th>\n",
       "      <th>from1</th>\n",
       "      <th>from2</th>\n",
       "      <th>from3</th>\n",
       "      <th>from4</th>\n",
       "      <th>y</th>\n",
       "    </tr>\n",
       "  </thead>\n",
       "  <tbody>\n",
       "    <tr>\n",
       "      <th>0</th>\n",
       "      <td>False</td>\n",
       "      <td>False</td>\n",
       "      <td>False</td>\n",
       "      <td>False</td>\n",
       "      <td>False</td>\n",
       "      <td>False</td>\n",
       "      <td>False</td>\n",
       "      <td>False</td>\n",
       "      <td>False</td>\n",
       "      <td>False</td>\n",
       "      <td>False</td>\n",
       "      <td>False</td>\n",
       "      <td>False</td>\n",
       "      <td>False</td>\n",
       "      <td>False</td>\n",
       "      <td>False</td>\n",
       "      <td>False</td>\n",
       "    </tr>\n",
       "    <tr>\n",
       "      <th>1</th>\n",
       "      <td>False</td>\n",
       "      <td>False</td>\n",
       "      <td>False</td>\n",
       "      <td>False</td>\n",
       "      <td>False</td>\n",
       "      <td>False</td>\n",
       "      <td>False</td>\n",
       "      <td>False</td>\n",
       "      <td>False</td>\n",
       "      <td>False</td>\n",
       "      <td>False</td>\n",
       "      <td>False</td>\n",
       "      <td>False</td>\n",
       "      <td>False</td>\n",
       "      <td>False</td>\n",
       "      <td>False</td>\n",
       "      <td>False</td>\n",
       "    </tr>\n",
       "    <tr>\n",
       "      <th>2</th>\n",
       "      <td>False</td>\n",
       "      <td>False</td>\n",
       "      <td>False</td>\n",
       "      <td>False</td>\n",
       "      <td>False</td>\n",
       "      <td>False</td>\n",
       "      <td>False</td>\n",
       "      <td>False</td>\n",
       "      <td>False</td>\n",
       "      <td>False</td>\n",
       "      <td>False</td>\n",
       "      <td>False</td>\n",
       "      <td>False</td>\n",
       "      <td>False</td>\n",
       "      <td>False</td>\n",
       "      <td>False</td>\n",
       "      <td>False</td>\n",
       "    </tr>\n",
       "    <tr>\n",
       "      <th>3</th>\n",
       "      <td>False</td>\n",
       "      <td>False</td>\n",
       "      <td>False</td>\n",
       "      <td>False</td>\n",
       "      <td>False</td>\n",
       "      <td>False</td>\n",
       "      <td>False</td>\n",
       "      <td>False</td>\n",
       "      <td>False</td>\n",
       "      <td>False</td>\n",
       "      <td>False</td>\n",
       "      <td>False</td>\n",
       "      <td>False</td>\n",
       "      <td>False</td>\n",
       "      <td>False</td>\n",
       "      <td>False</td>\n",
       "      <td>False</td>\n",
       "    </tr>\n",
       "    <tr>\n",
       "      <th>4</th>\n",
       "      <td>False</td>\n",
       "      <td>False</td>\n",
       "      <td>False</td>\n",
       "      <td>False</td>\n",
       "      <td>False</td>\n",
       "      <td>False</td>\n",
       "      <td>False</td>\n",
       "      <td>False</td>\n",
       "      <td>False</td>\n",
       "      <td>False</td>\n",
       "      <td>False</td>\n",
       "      <td>False</td>\n",
       "      <td>False</td>\n",
       "      <td>False</td>\n",
       "      <td>False</td>\n",
       "      <td>False</td>\n",
       "      <td>False</td>\n",
       "    </tr>\n",
       "    <tr>\n",
       "      <th>...</th>\n",
       "      <td>...</td>\n",
       "      <td>...</td>\n",
       "      <td>...</td>\n",
       "      <td>...</td>\n",
       "      <td>...</td>\n",
       "      <td>...</td>\n",
       "      <td>...</td>\n",
       "      <td>...</td>\n",
       "      <td>...</td>\n",
       "      <td>...</td>\n",
       "      <td>...</td>\n",
       "      <td>...</td>\n",
       "      <td>...</td>\n",
       "      <td>...</td>\n",
       "      <td>...</td>\n",
       "      <td>...</td>\n",
       "      <td>...</td>\n",
       "    </tr>\n",
       "    <tr>\n",
       "      <th>100</th>\n",
       "      <td>False</td>\n",
       "      <td>False</td>\n",
       "      <td>False</td>\n",
       "      <td>False</td>\n",
       "      <td>False</td>\n",
       "      <td>False</td>\n",
       "      <td>False</td>\n",
       "      <td>False</td>\n",
       "      <td>False</td>\n",
       "      <td>False</td>\n",
       "      <td>False</td>\n",
       "      <td>False</td>\n",
       "      <td>False</td>\n",
       "      <td>False</td>\n",
       "      <td>False</td>\n",
       "      <td>False</td>\n",
       "      <td>False</td>\n",
       "    </tr>\n",
       "    <tr>\n",
       "      <th>101</th>\n",
       "      <td>False</td>\n",
       "      <td>False</td>\n",
       "      <td>False</td>\n",
       "      <td>False</td>\n",
       "      <td>False</td>\n",
       "      <td>False</td>\n",
       "      <td>False</td>\n",
       "      <td>False</td>\n",
       "      <td>False</td>\n",
       "      <td>False</td>\n",
       "      <td>False</td>\n",
       "      <td>False</td>\n",
       "      <td>False</td>\n",
       "      <td>False</td>\n",
       "      <td>False</td>\n",
       "      <td>False</td>\n",
       "      <td>False</td>\n",
       "    </tr>\n",
       "    <tr>\n",
       "      <th>102</th>\n",
       "      <td>False</td>\n",
       "      <td>False</td>\n",
       "      <td>False</td>\n",
       "      <td>False</td>\n",
       "      <td>False</td>\n",
       "      <td>False</td>\n",
       "      <td>False</td>\n",
       "      <td>False</td>\n",
       "      <td>False</td>\n",
       "      <td>False</td>\n",
       "      <td>False</td>\n",
       "      <td>False</td>\n",
       "      <td>False</td>\n",
       "      <td>False</td>\n",
       "      <td>False</td>\n",
       "      <td>False</td>\n",
       "      <td>False</td>\n",
       "    </tr>\n",
       "    <tr>\n",
       "      <th>103</th>\n",
       "      <td>False</td>\n",
       "      <td>False</td>\n",
       "      <td>False</td>\n",
       "      <td>False</td>\n",
       "      <td>False</td>\n",
       "      <td>False</td>\n",
       "      <td>False</td>\n",
       "      <td>False</td>\n",
       "      <td>False</td>\n",
       "      <td>False</td>\n",
       "      <td>False</td>\n",
       "      <td>False</td>\n",
       "      <td>False</td>\n",
       "      <td>False</td>\n",
       "      <td>False</td>\n",
       "      <td>False</td>\n",
       "      <td>False</td>\n",
       "    </tr>\n",
       "    <tr>\n",
       "      <th>104</th>\n",
       "      <td>False</td>\n",
       "      <td>False</td>\n",
       "      <td>False</td>\n",
       "      <td>False</td>\n",
       "      <td>False</td>\n",
       "      <td>False</td>\n",
       "      <td>False</td>\n",
       "      <td>False</td>\n",
       "      <td>False</td>\n",
       "      <td>False</td>\n",
       "      <td>False</td>\n",
       "      <td>False</td>\n",
       "      <td>False</td>\n",
       "      <td>False</td>\n",
       "      <td>False</td>\n",
       "      <td>False</td>\n",
       "      <td>False</td>\n",
       "    </tr>\n",
       "  </tbody>\n",
       "</table>\n",
       "<p>105 rows × 17 columns</p>\n",
       "</div>"
      ],
      "text/plain": [
       "        ID  class  gender   race    GPA  Algebra  Calculus1  Calculus2  \\\n",
       "0    False  False   False  False  False    False      False      False   \n",
       "1    False  False   False  False  False    False      False      False   \n",
       "2    False  False   False  False  False    False      False      False   \n",
       "3    False  False   False  False  False    False      False      False   \n",
       "4    False  False   False  False  False    False      False      False   \n",
       "..     ...    ...     ...    ...    ...      ...        ...        ...   \n",
       "100  False  False   False  False  False    False      False      False   \n",
       "101  False  False   False  False  False    False      False      False   \n",
       "102  False  False   False  False  False    False      False      False   \n",
       "103  False  False   False  False  False    False      False      False   \n",
       "104  False  False   False  False  False    False      False      False   \n",
       "\n",
       "     Statistics  Probability  Measure  Functional_analysis  from1  from2  \\\n",
       "0         False        False    False                False  False  False   \n",
       "1         False        False    False                False  False  False   \n",
       "2         False        False    False                False  False  False   \n",
       "3         False        False    False                False  False  False   \n",
       "4         False        False    False                False  False  False   \n",
       "..          ...          ...      ...                  ...    ...    ...   \n",
       "100       False        False    False                False  False  False   \n",
       "101       False        False    False                False  False  False   \n",
       "102       False        False    False                False  False  False   \n",
       "103       False        False    False                False  False  False   \n",
       "104       False        False    False                False  False  False   \n",
       "\n",
       "     from3  from4      y  \n",
       "0    False  False  False  \n",
       "1    False  False  False  \n",
       "2    False  False  False  \n",
       "3    False  False  False  \n",
       "4    False  False  False  \n",
       "..     ...    ...    ...  \n",
       "100  False  False  False  \n",
       "101  False  False  False  \n",
       "102  False  False  False  \n",
       "103  False  False  False  \n",
       "104  False  False  False  \n",
       "\n",
       "[105 rows x 17 columns]"
      ]
     },
     "execution_count": 69,
     "metadata": {},
     "output_type": "execute_result"
    }
   ],
   "source": [
    "df.isnull()"
   ]
  },
  {
   "cell_type": "code",
   "execution_count": 73,
   "id": "c480e6b4-95f8-475a-aff3-9811e53c8ad0",
   "metadata": {},
   "outputs": [
    {
     "data": {
      "text/plain": [
       "ID                       int64\n",
       "class                   object\n",
       "gender                  object\n",
       "race                     int64\n",
       "GPA                    float64\n",
       "Algebra                  int64\n",
       "Calculus1                int64\n",
       "Calculus2                int64\n",
       "Statistics               int64\n",
       "Probability              int64\n",
       "Measure                  int64\n",
       "Functional_analysis      int64\n",
       "from1                   object\n",
       "from2                   object\n",
       "from3                   object\n",
       "from4                    int64\n",
       "y                        int64\n",
       "dtype: object"
      ]
     },
     "execution_count": 73,
     "metadata": {},
     "output_type": "execute_result"
    }
   ],
   "source": [
    "df.dtypes"
   ]
  },
  {
   "cell_type": "code",
   "execution_count": 74,
   "id": "c13c2ca7-a54f-4614-8fc0-2eb9bd61287e",
   "metadata": {},
   "outputs": [
    {
     "data": {
      "text/plain": [
       "(105, 17)"
      ]
     },
     "execution_count": 74,
     "metadata": {},
     "output_type": "execute_result"
    }
   ],
   "source": [
    "df.shape"
   ]
  },
  {
   "cell_type": "code",
   "execution_count": 79,
   "id": "8f1ad2f9-0784-4027-a7a6-27d0aa8c2036",
   "metadata": {},
   "outputs": [
    {
     "name": "stdout",
     "output_type": "stream",
     "text": [
      "Mean: 75.32, Median: 76.00, Std: 13.00, Variance: 169.09\n"
     ]
    }
   ],
   "source": [
    "# Calculate mean of a specific column\n",
    "mean_value = df['Functional_analysis'].mean()\n",
    "\n",
    "# Calculate median\n",
    "median_value = df['Functional_analysis'].median()\n",
    "\n",
    "# Calculate standard deviation\n",
    "std_value = df['Functional_analysis'].std()\n",
    "\n",
    "# Calculate variance\n",
    "var_value = df['Functional_analysis'].var()\n",
    "\n",
    "print(f\"Mean: {mean_value:.2f}, Median: {median_value:.2f}, Std: {std_value:.2f}, Variance: {var_value:.2f}\")\n"
   ]
  },
  {
   "cell_type": "code",
   "execution_count": 80,
   "id": "55ad8377-87af-42c7-b3b6-3c69975aee3f",
   "metadata": {},
   "outputs": [
    {
     "name": "stdout",
     "output_type": "stream",
     "text": [
      "Selected Columns:\n",
      "     Algebra  Statistics\n",
      "0         64          60\n",
      "1         57          51\n",
      "2         47          60\n",
      "3         46          60\n",
      "4         49          60\n",
      "..       ...         ...\n",
      "100       87          98\n",
      "101       98          98\n",
      "102       83          98\n",
      "103       92          99\n",
      "104       93         100\n",
      "\n",
      "[105 rows x 2 columns]\n"
     ]
    }
   ],
   "source": [
    "# Select specific columns\n",
    "selected_columns = df[['Algebra', 'Statistics']]\n",
    "\n",
    "print(\"Selected Columns:\")\n",
    "print(selected_columns)\n"
   ]
  },
  {
   "cell_type": "code",
   "execution_count": 98,
   "id": "4bef2786-4e90-451e-a65c-3d6419af89dc",
   "metadata": {},
   "outputs": [
    {
     "name": "stdout",
     "output_type": "stream",
     "text": [
      "Filtered Data (Male):\n",
      "0      73.47\n",
      "5      65.04\n",
      "6      77.11\n",
      "10     76.83\n",
      "13     80.08\n",
      "14     81.67\n",
      "16     74.11\n",
      "17     81.50\n",
      "18     75.64\n",
      "19     76.46\n",
      "20     75.57\n",
      "21     83.13\n",
      "24     79.56\n",
      "28     84.04\n",
      "31     87.04\n",
      "32     74.17\n",
      "33     82.71\n",
      "40     83.19\n",
      "47     74.43\n",
      "50     79.00\n",
      "59     79.34\n",
      "61     78.39\n",
      "65     86.37\n",
      "72     89.41\n",
      "78     63.49\n",
      "82     84.18\n",
      "89     86.01\n",
      "90     89.46\n",
      "92     86.87\n",
      "96     91.74\n",
      "97     91.14\n",
      "98     90.31\n",
      "99     88.10\n",
      "101    89.84\n",
      "102    88.82\n",
      "103    86.60\n",
      "104    93.71\n",
      "Name: GPA, dtype: float64\n"
     ]
    }
   ],
   "source": [
    "# Filter rows where Gender is 'Male'\n",
    "male_data = df[df['gender'] == 'male' ]['GPA']\n",
    "\n",
    "print(f\"Filtered Data (Male):\")\n",
    "print(male_data)"
   ]
  },
  {
   "cell_type": "code",
   "execution_count": 99,
   "id": "4b1ef23c-d56e-4f91-b686-50d70364b679",
   "metadata": {},
   "outputs": [
    {
     "name": "stdout",
     "output_type": "stream",
     "text": [
      "Filtered Data (female):\n",
      "1      71.22\n",
      "2      74.56\n",
      "3      72.89\n",
      "4      70.11\n",
      "7      64.75\n",
      "       ...  \n",
      "91     86.96\n",
      "93     91.61\n",
      "94     88.54\n",
      "95     87.63\n",
      "100    88.34\n",
      "Name: GPA, Length: 68, dtype: float64\n"
     ]
    }
   ],
   "source": [
    "# Filter rows where Gender is 'Male'\n",
    "female_data = df[df['gender'] == 'female']['GPA']\n",
    "\n",
    "print(\"Filtered Data (female):\")\n",
    "print(female_data)"
   ]
  },
  {
   "cell_type": "code",
   "execution_count": null,
   "id": "63529b19-3e53-42c4-ba1c-a9d9e5d0f6e2",
=======
   "execution_count": null,
   "id": "5cbf5898-920b-44ed-9919-19835cb24402",
>>>>>>> 4ce57da454ceb48c8b20b457660f2eb470ac2319
   "metadata": {},
   "outputs": [],
   "source": []
  }
 ],
 "metadata": {
  "kernelspec": {
   "display_name": "Python 3 (ipykernel)",
   "language": "python",
   "name": "python3"
  },
  "language_info": {
   "codemirror_mode": {
    "name": "ipython",
    "version": 3
   },
   "file_extension": ".py",
   "mimetype": "text/x-python",
   "name": "python",
   "nbconvert_exporter": "python",
   "pygments_lexer": "ipython3",
   "version": "3.12.5"
  }
 },
 "nbformat": 4,
 "nbformat_minor": 5
}
