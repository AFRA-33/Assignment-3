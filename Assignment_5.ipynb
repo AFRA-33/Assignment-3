{
 "cells": [
  {
   "cell_type": "markdown",
   "id": "f05440ef-328a-4a49-849c-ef7bf561bc23",
   "metadata": {},
   "source": [
    "# **Assignment # 5**"
   ]
  },
  {
   "cell_type": "markdown",
   "id": "5818c726-5078-47ed-966c-0388b5b031cd",
   "metadata": {},
   "source": [
    "##### 1. You need to store and manage employee records where each record includes an employee's ID, name, and department. (Use tuples to represent each employee record)."
   ]
  },
  {
   "cell_type": "code",
   "execution_count": 3,
   "id": "f8b99dab-8fef-4a2d-8abc-3d9c68c8ef43",
   "metadata": {},
   "outputs": [
    {
     "data": {
      "text/plain": [
       "[(101, 'Ahmed Khan', 'HR'),\n",
       " (102, 'Ayesha Siddiqui', 'IT'),\n",
       " (103, 'Fatima Noor', 'Finance'),\n",
       " (104, 'Ali Raza', 'Marketing'),\n",
       " (105, 'Hassan Malik', 'Operations'),\n",
       " (106, 'Zainab Ali', 'IT'),\n",
       " (107, 'Omar Farooq', 'HR'),\n",
       " (108, 'Sara Ahmed', 'Finance'),\n",
       " (109, 'Bilal Shaikh', 'Marketing'),\n",
       " (110, 'Mariam Khan', 'Operations')]"
      ]
     },
     "execution_count": 3,
     "metadata": {},
     "output_type": "execute_result"
    }
   ],
   "source": [
    "# Employees data records using tuples\n",
    "employee_1 = (101, \"Ahmed Khan\", \"HR\")\n",
    "employee_2 = (102, \"Ayesha Siddiqui\", \"IT\")\n",
    "employee_3 = (103, \"Fatima Noor\", \"Finance\")\n",
    "employee_4 = (104, \"Ali Raza\", \"Marketing\")\n",
    "employee_5 = (105, \"Hassan Malik\", \"Operations\")\n",
    "employee_6 = (106, \"Zainab Ali\", \"IT\")\n",
    "employee_7 = (107, \"Omar Farooq\", \"HR\")\n",
    "employee_8 = (108, \"Sara Ahmed\", \"Finance\")\n",
    "employee_9 = (109, \"Bilal Shaikh\", \"Marketing\")\n",
    "employee_10 = (110, \"Mariam Khan\", \"Operations\")\n",
    "\n",
    "# tuple in a list\n",
    "employees = [\n",
    "    employee_1, employee_2, employee_3, employee_4, employee_5,\n",
    "    employee_6, employee_7, employee_8, employee_9, employee_10\n",
    "]\n",
    "employees"
   ]
  },
  {
   "cell_type": "markdown",
   "id": "c1719e1b-5497-483c-a6bb-3983ee05a7c2",
   "metadata": {},
   "source": [
    "##### 2. You are managing an inventory system where each item has an item ID, description, and quantity available. (Use tuples to represent each inventory item)."
   ]
  },
  {
   "cell_type": "code",
   "execution_count": 5,
   "id": "bedaf599-5ca0-4feb-9977-413304058eb2",
   "metadata": {},
   "outputs": [
    {
     "data": {
      "text/plain": [
       "[(201, 'Laptop - Dell Inspiron', 25),\n",
       " (202, 'Smartphone - Samsung Galaxy', 50),\n",
       " (203, 'Tablet - Apple iPad', 30),\n",
       " (204, 'Monitor - HP 24-inch', 15),\n",
       " (205, 'Keyboard - Logitech Wireless', 60),\n",
       " (206, 'Mouse - Microsoft Ergonomic', 40),\n",
       " (207, 'Printer - Canon Pixma', 10),\n",
       " (208, 'Router - TP-Link WiFi', 35),\n",
       " (209, 'Headphones - Sony Noise Cancelling', 20),\n",
       " (210, 'External Hard Drive - Seagate 1TB', 45)]"
      ]
     },
     "execution_count": 5,
     "metadata": {},
     "output_type": "execute_result"
    }
   ],
   "source": [
    "# inventory data records using tuples\n",
    "item_1 = (201, \"Laptop - Dell Inspiron\", 25)\n",
    "item_2 = (202, \"Smartphone - Samsung Galaxy\", 50)\n",
    "item_3 = (203, \"Tablet - Apple iPad\", 30)\n",
    "item_4 = (204, \"Monitor - HP 24-inch\", 15)\n",
    "item_5 = (205, \"Keyboard - Logitech Wireless\", 60)\n",
    "item_6 = (206, \"Mouse - Microsoft Ergonomic\", 40)\n",
    "item_7 = (207, \"Printer - Canon Pixma\", 10)\n",
    "item_8 = (208, \"Router - TP-Link WiFi\", 35)\n",
    "item_9 = (209, \"Headphones - Sony Noise Cancelling\", 20)\n",
    "item_10 = (210, \"External Hard Drive - Seagate 1TB\", 45)\n",
    "\n",
    "# tuple in a list\n",
    "inventory = [\n",
    "    item_1, item_2, item_3, item_4, item_5,\n",
    "    item_6, item_7, item_8, item_9, item_10\n",
    "]\n",
    "inventory"
   ]
  },
  {
   "cell_type": "markdown",
   "id": "c4786fed-3574-4f0e-8055-0e06886acd65",
   "metadata": {},
   "source": [
    "##### 3. You need to store the dates and times of scheduled events, like meetings or appointments. (Use tuples to store date and time information)."
   ]
  },
  {
   "cell_type": "code",
   "execution_count": 7,
   "id": "0dcd15b0-7dee-411c-be44-d6a08cb5f04e",
   "metadata": {},
   "outputs": [
    {
     "data": {
      "text/plain": [
       "[('2024-08-20', '09:00 AM', 'Team Meeting'),\n",
       " ('2024-08-21', '02:00 PM', 'Client Presentation'),\n",
       " ('2024-08-22', '11:00 AM', 'Project Update Meeting'),\n",
       " ('2024-08-23', '03:30 PM', 'HR Interview'),\n",
       " ('2024-08-24', '10:00 AM', 'Product Launch'),\n",
       " ('2024-08-25', '04:00 PM', 'Performance Review'),\n",
       " ('2024-08-26', '01:00 PM', 'Strategy Planning'),\n",
       " ('2024-08-27', '08:00 AM', 'Morning Briefing'),\n",
       " ('2024-08-28', '12:00 PM', 'Lunch with CEO'),\n",
       " ('2024-08-29', '05:00 PM', 'Weekly Wrap-Up Meeting')]"
      ]
     },
     "execution_count": 7,
     "metadata": {},
     "output_type": "execute_result"
    }
   ],
   "source": [
    "# scheduled events using tuples\n",
    "event_1 = (\"2024-08-20\", \"09:00 AM\", \"Team Meeting\")\n",
    "event_2 = (\"2024-08-21\", \"02:00 PM\", \"Client Presentation\")\n",
    "event_3 = (\"2024-08-22\", \"11:00 AM\", \"Project Update Meeting\")\n",
    "event_4 = (\"2024-08-23\", \"03:30 PM\", \"HR Interview\")\n",
    "event_5 = (\"2024-08-24\", \"10:00 AM\", \"Product Launch\")\n",
    "event_6 = (\"2024-08-25\", \"04:00 PM\", \"Performance Review\")\n",
    "event_7 = (\"2024-08-26\", \"01:00 PM\", \"Strategy Planning\")\n",
    "event_8 = (\"2024-08-27\", \"08:00 AM\", \"Morning Briefing\")\n",
    "event_9 = (\"2024-08-28\", \"12:00 PM\", \"Lunch with CEO\")\n",
    "event_10 = (\"2024-08-29\", \"05:00 PM\", \"Weekly Wrap-Up Meeting\")\n",
    "\n",
    "# tuple in a list\n",
    "events = [\n",
    "    event_1, event_2, event_3, event_4, event_5,\n",
    "    event_6, event_7, event_8, event_9, event_10\n",
    "]\n",
    "events"
   ]
  },
  {
   "cell_type": "markdown",
   "id": "a6627622-7217-4c76-b8f9-10668df00d62",
   "metadata": {},
   "source": [
    "##### 4. Store a company's employee details, organized by department. (Use dictionary in dictionary)."
   ]
  },
  {
   "cell_type": "code",
   "execution_count": 16,
   "id": "744e3fba-6fd3-4336-99d4-d87531d7c853",
   "metadata": {},
   "outputs": [
    {
     "data": {
      "text/plain": [
       "{'HR': {101: {'Name': 'Ahmed Khan', 'Position': 'HR Manager'},\n",
       "  102: {'Name': 'Omar Farooq', 'Position': 'HR Assistant'}},\n",
       " 'IT': {201: {'Name': 'Ayesha Siddiqui', 'Position': 'IT Specialist'},\n",
       "  202: {'Name': 'Zainab Ali', 'Position': 'Software Engineer'},\n",
       "  203: {'Name': 'Bilal Shaikh', 'Position': 'Network Administrator'}},\n",
       " 'Finance': {301: {'Name': 'Fatima Noor', 'Position': 'Finance Manager'},\n",
       "  302: {'Name': 'Sara Ahmed', 'Position': 'Accountant'}},\n",
       " 'Marketing': {401: {'Name': 'Ali Raza', 'Position': 'Marketing Director'},\n",
       "  402: {'Name': 'Hassan Malik', 'Position': 'Marketing Specialist'}},\n",
       " 'Operations': {501: {'Name': 'Mariam Khan', 'Position': 'Operations Manager'},\n",
       "  502: {'Name': 'Kashif Ali', 'Position': 'Operations Coordinator'}}}"
      ]
     },
     "execution_count": 16,
     "metadata": {},
     "output_type": "execute_result"
    }
   ],
   "source": [
    "# Nested Dictionary\n",
    "company_employees = {\n",
    "    \"HR\": {\n",
    "        101: {\"Name\": \"Ahmed Khan\", \"Position\": \"HR Manager\"},\n",
    "        102: {\"Name\": \"Omar Farooq\", \"Position\": \"HR Assistant\"},\n",
    "    },\n",
    "    \"IT\": {\n",
    "        201: {\"Name\": \"Ayesha Siddiqui\", \"Position\": \"IT Specialist\"},\n",
    "        202: {\"Name\": \"Zainab Ali\", \"Position\": \"Software Engineer\"},\n",
    "        203: {\"Name\": \"Bilal Shaikh\", \"Position\": \"Network Administrator\"},\n",
    "    },\n",
    "    \"Finance\": {\n",
    "        301: {\"Name\": \"Fatima Noor\", \"Position\": \"Finance Manager\"},\n",
    "        302: {\"Name\": \"Sara Ahmed\", \"Position\": \"Accountant\"},\n",
    "    },\n",
    "    \"Marketing\": {\n",
    "        401: {\"Name\": \"Ali Raza\", \"Position\": \"Marketing Director\"},\n",
    "        402: {\"Name\": \"Hassan Malik\", \"Position\": \"Marketing Specialist\"},\n",
    "    },\n",
    "    \"Operations\": {\n",
    "        501: {\"Name\": \"Mariam Khan\", \"Position\": \"Operations Manager\"},\n",
    "        502: {\"Name\": \"Kashif Ali\", \"Position\": \"Operations Coordinator\"},\n",
    "    }\n",
    "}\n",
    "\n",
    "company_employees\n"
   ]
  },
  {
   "cell_type": "markdown",
   "id": "47c79ea8-605e-4037-8775-ec7bdefa227e",
   "metadata": {},
   "source": [
    "##### 5. Keep track of student scores in various subjects and retrieve a student's scores. (Use dictionary in List)."
   ]
  },
  {
   "cell_type": "code",
   "execution_count": 87,
   "id": "02910765-4d22-4057-ad2a-68c72a4ddca4",
   "metadata": {},
   "outputs": [
    {
     "name": "stdout",
     "output_type": "stream",
     "text": [
      "Student ID: 4, \n",
      "Name: Fatima Sheikh\n",
      "Math: 89 \n",
      "Science: 94 \n",
      "English: 91\n"
     ]
    }
   ],
   "source": [
    "# List of dictionaries to store student scores\n",
    "students_scores = [\n",
    "    {\"Student ID\": 1, \"Name\": \"Ali Hassan\", \"Scores\": {\"Math\": 85, \"Science\": 90, \"English\": 78}},\n",
    "    {\"Student ID\": 2, \"Name\": \"Aisha Noor\", \"Scores\": {\"Math\": 92, \"Science\": 88, \"English\": 84}},\n",
    "    {\"Student ID\": 3, \"Name\": \"Zain Malik\", \"Scores\": {\"Math\": 75, \"Science\": 80, \"English\": 72}},\n",
    "    {\"Student ID\": 4, \"Name\": \"Fatima Sheikh\", \"Scores\": {\"Math\": 89, \"Science\": 94, \"English\": 91}},\n",
    "    {\"Student ID\": 5, \"Name\": \"Omar Ali\", \"Scores\": {\"Math\": 77, \"Science\": 82, \"English\": 85}},\n",
    "]\n",
    "\n",
    "student_id_to_search = students_scores[3]\n",
    "\n",
    "print(f\"\"\"Student ID: {student_id_to_search['Student ID']}, \n",
    "Name: {student_info['Name']}\n",
    "Math: {student_info['Scores']['Math']} \n",
    "Science: {student_info['Scores']['Science']} \n",
    "English: {student_info['Scores']['English']}\"\"\")\n",
    "   \n"
   ]
  },
  {
   "cell_type": "markdown",
   "id": "3cf763ed-47b4-43db-8475-fa1807f5c429",
   "metadata": {},
   "source": [
    "##### 6. Track various projects and their associated tasks, and retrieve tasks for a specific project. (Use List in Dictionary)."
   ]
  },
  {
   "cell_type": "code",
   "execution_count": 72,
   "id": "bb9149ae-0bf3-4bac-a5bc-d8e703ac589c",
   "metadata": {},
   "outputs": [
    {
     "name": "stdout",
     "output_type": "stream",
     "text": [
      "Tasks for Project C: \n",
      "Task 1: Requirement gathering\n",
      "Task 2: Create wireframes\n",
      "Task 3: Client approval\n"
     ]
    }
   ],
   "source": [
    "projects = {\n",
    "    \"Project A\": [\"Task 1: Design the UI\", \"Task 2: Develop the backend\", \"Task 3: Testing\"],\n",
    "    \"Project B\": [\"Task 1: Market research\", \"Task 2: Create marketing plan\", \"Task 3: Launch campaign\"],\n",
    "    \"Project C\": [\"Task 1: Requirement gathering\", \"Task 2: Create wireframes\", \"Task 3: Client approval\"],\n",
    "    \"Project D\": [\"Task 1: Setup database\", \"Task 2: API development\", \"Task 3: Integration\"],\n",
    "    \"Project E\": [\"Task 1: Prepare budget\", \"Task 2: Resource allocation\", \"Task 3: Project kickoff\"],\n",
    "}\n",
    "\n",
    "# retrieve tasks for a specific project\n",
    "project_name_to_search = \"Project C\"\n",
    "\n",
    "# Access the tasks for the specific project directly\n",
    "tasks = projects.get(project_name_to_search)\n",
    "\n",
    "print(f\"Tasks for {project_name_to_search}: \\n{tasks[0]}\\n{tasks[1]}\\n{tasks[2]}\")"
   ]
  },
  {
   "cell_type": "markdown",
   "id": "ec3b5506-07f9-482e-b761-18bb80e2e7dd",
   "metadata": {},
   "source": [
    "##### 7. Manage courses and their contents in a training program and retrieve details of a specific module. (dictionary in dictionary)"
   ]
  },
  {
   "cell_type": "code",
   "execution_count": 100,
   "id": "674ecd7d-7d6f-4ec0-a92b-01f2a7cb6647",
   "metadata": {},
   "outputs": [
    {
     "name": "stdout",
     "output_type": "stream",
     "text": [
      "Details of Module 2 in Course 2:\n",
      "Title: Supervised Learning\n",
      "Duration: 2.5 hours\n",
      "Instructor: Emily Davis\n"
     ]
    }
   ],
   "source": [
    "training_program = {\n",
    "    \"Course 1\": {\n",
    "        \"Module 1\": {\"Title\": \"Introduction to Python\", \"Duration\": \"2 hours\", \"Instructor\": \"John Doe\"},\n",
    "        \"Module 2\": {\"Title\": \"Data Structures\", \"Duration\": \"3 hours\", \"Instructor\": \"Jane Smith\"},\n",
    "        \"Module 3\": {\"Title\": \"Algorithms\", \"Duration\": \"4 hours\", \"Instructor\": \"Alice Johnson\"},\n",
    "    },\n",
    "    \"Course 2\": {\n",
    "        \"Module 1\": {\"Title\": \"Fundamentals of Machine Learning\", \"Duration\": \"3 hours\", \"Instructor\": \"Michael Brown\"},\n",
    "        \"Module 2\": {\"Title\": \"Supervised Learning\", \"Duration\": \"2.5 hours\", \"Instructor\": \"Emily Davis\"},\n",
    "        \"Module 3\": {\"Title\": \"Unsupervised Learning\", \"Duration\": \"2 hours\", \"Instructor\": \"David Wilson\"},\n",
    "    },\n",
    "    \"Course 3\": {\n",
    "        \"Module 1\": {\"Title\": \"Database Design\", \"Duration\": \"3.5 hours\", \"Instructor\": \"Rachel Green\"},\n",
    "        \"Module 2\": {\"Title\": \"SQL Queries\", \"Duration\": \"2 hours\", \"Instructor\": \"Ross Geller\"},\n",
    "        \"Module 3\": {\"Title\": \"NoSQL Databases\", \"Duration\": \"2.5 hours\", \"Instructor\": \"Monica Geller\"},\n",
    "    }\n",
    "}\n",
    "\n",
    "\n",
    "# Accessing the module details manually\n",
    "course = training_program.get(\"Course 2\")\n",
    "\n",
    "module = course.get(\"Module 2\")\n",
    "print(f\"Details of {module_name} in {course_name}:\\nTitle: {module['Title']}\\nDuration: {module['Duration']}\\nInstructor: {module['Instructor']}\")\n"
   ]
  },
  {
   "cell_type": "markdown",
   "id": "9af9eb6f-7e8f-4c0d-a51c-a632a7ca9261",
   "metadata": {},
   "source": [
    "##### 8.You have a list where each element is a tuple containing a product's name and its price. You need to find products that are below a certain price threshold. (Use unpacking lists of tuples)"
   ]
  },
  {
   "cell_type": "code",
   "execution_count": 101,
   "id": "38ad1ab1-af26-4829-9a7e-c02716ac1ec0",
   "metadata": {},
   "outputs": [
    {
     "name": "stdout",
     "output_type": "stream",
     "text": [
      "Products below the price threshold:\n",
      "Product: Headphones, Price: $89.99\n",
      "Product: Keyboard, Price: $29.99\n",
      "Product: Mouse, Price: $19.99\n",
      "Product: Webcam, Price: $59.99\n"
     ]
    }
   ],
   "source": [
    "# List of tuples where each tuple contains a product's name and its price\n",
    "products = [\n",
    "    (\"Laptop\", 999.99),\n",
    "    (\"Smartphone\", 499.99),\n",
    "    (\"Headphones\", 89.99),\n",
    "    (\"Keyboard\", 29.99),\n",
    "    (\"Mouse\", 19.99),\n",
    "    (\"Monitor\", 299.99),\n",
    "    (\"Webcam\", 59.99)\n",
    "]\n",
    "\n",
    "# Define the price threshold\n",
    "price_threshold = 100.00\n",
    "\n",
    "# Find products that are below the price threshold using list comprehension and unpacking\n",
    "affordable_products = [(name, price) for name, price in products if price < price_threshold]\n",
    "\n",
    "# Display the results\n",
    "print(\"Products below the price threshold:\")\n",
    "for product in affordable_products:\n",
    "    print(f\"Product: {product[0]}, Price: ${product[1]:.2f}\")\n"
   ]
  },
  {
   "cell_type": "code",
   "execution_count": null,
   "id": "b29dfc94-2fc4-4e69-b91c-671f1109c689",
   "metadata": {},
   "outputs": [],
   "source": []
  }
 ],
 "metadata": {
  "kernelspec": {
   "display_name": "Python 3 (ipykernel)",
   "language": "python",
   "name": "python3"
  },
  "language_info": {
   "codemirror_mode": {
    "name": "ipython",
    "version": 3
   },
   "file_extension": ".py",
   "mimetype": "text/x-python",
   "name": "python",
   "nbconvert_exporter": "python",
   "pygments_lexer": "ipython3",
   "version": "3.12.5"
  }
 },
 "nbformat": 4,
 "nbformat_minor": 5
}
